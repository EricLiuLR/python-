{
 "cells": [
  {
   "cell_type": "markdown",
   "metadata": {},
   "source": [
    "# 电力窃漏电用户自动识别"
   ]
  },
  {
   "cell_type": "markdown",
   "metadata": {},
   "source": [
    "## 挖掘目标"
   ]
  },
  {
   "cell_type": "markdown",
   "metadata": {},
   "source": [
    "利用电力公司的自动化系统所采集到的各相电流、电压、功率因数等用电负荷数据以及用电异常等终端信息，提取出窃漏电用户的关键特征，构建识别模型，自动检查，判断用户是否存在窃漏电行为。"
   ]
  },
  {
   "cell_type": "markdown",
   "metadata": {},
   "source": [
    "## 分析方法与过程"
   ]
  },
  {
   "cell_type": "markdown",
   "metadata": {},
   "source": [
    "- 从电力计量自动化系统、营销系统有选择性地抽取部分大用户用电负荷、终端报警及违约窃电处罚信息等原始数据；\n",
    "- 对样本数据探索分析，提出部分不可能存在窃电行为的用户，即白名单用户，初步审视正常用户和窃漏电用户的用电特征；\n",
    "- 对样本数据进行预处理，包括数据清洗、缺失值处理和数据变换；\n",
    "- 构建专家样本集；\n",
    "- 构建窃漏电用户识别模型；\n",
    "- 在线监测用户用电负荷及终端报警，调用模型实现实时诊断。"
   ]
  },
  {
   "cell_type": "markdown",
   "metadata": {},
   "source": [
    "### 数据抽取"
   ]
  },
  {
   "cell_type": "markdown",
   "metadata": {},
   "source": [
    "从营销系统抽取的数据：\n",
    "- 用户基本信息：用户名称、用户编号、用电地址、用电类别、报表容量、计量方式、电流互感器变化、电压互感器变化\n",
    "- 违约、窃电处理记录\n",
    "- 计量方法及依据\n",
    "从计量自动化系统采集的数据属性：\n",
    "- 实时负荷：时间点、计量点、总有功功率、A/B/C相有功功率、A/B/C相电流、A/B/C相电压、A/B/C相功率因数\n",
    "- 终端报警"
   ]
  },
  {
   "cell_type": "markdown",
   "metadata": {},
   "source": [
    "基于此，本案例抽取了208个用户的有关数据，同时包含每天是否有窃漏电情况的标识"
   ]
  },
  {
   "cell_type": "markdown",
   "metadata": {},
   "source": [
    "### 数据探索分析"
   ]
  },
  {
   "cell_type": "markdown",
   "metadata": {},
   "source": [
    "分布分析\n",
    "- 按照用户类型，对数据集中所有的窃漏电用户进行分布分析，发现非居民类别不存在窃漏电情况，因此在接下来的分析中，不考虑非居民的用电数据\n",
    "\n",
    "周期性分析\n",
    "- 随机抽取一个正常用电用户和一个窃漏电用户，采用周期性分析对用电进行探索\n",
    "- 正常用户的用电量有明显的周期性，周期间用电量稳定、规律\n",
    "- 窃漏电用户的用电量在周期间出现明显下降的趋势"
   ]
  },
  {
   "cell_type": "markdown",
   "metadata": {},
   "source": [
    "### 数据预处理"
   ]
  },
  {
   "cell_type": "markdown",
   "metadata": {},
   "source": [
    "数据清洗\n",
    "- 由于非居民用电类别不存在窃漏电现象，所以将非居民用电类别的数据过滤掉\n",
    "- 节假日用电量与工作日相比会明显偏低，为了达到较好的数据效果，过滤掉节假日的用电数据\n",
    "\n",
    "缺失值处理\n",
    "- 对缺失值采用拉格朗日插值法进行插补"
   ]
  },
  {
   "cell_type": "code",
   "execution_count": 27,
   "metadata": {},
   "outputs": [],
   "source": [
    "import numpy as np\n",
    "import pandas as pd\n",
    "import seaborn as sns\n",
    "import matplotlib.pyplot as plt\n",
    "from sklearn.metrics import confusion_matrix\n",
    "\n",
    "plt.rcParams['font.sans-serif'] = ['SimHei']\n",
    "plt.rcParams['axes.unicode_minus'] = False"
   ]
  },
  {
   "cell_type": "code",
   "execution_count": 28,
   "metadata": {},
   "outputs": [],
   "source": [
    "from scipy.interpolate import lagrange"
   ]
  },
  {
   "cell_type": "code",
   "execution_count": 29,
   "metadata": {},
   "outputs": [],
   "source": [
    "x = [0, 1, 2, 3, 4, 5]\n",
    "y = [4, 9, 16, 25, 77, 8]"
   ]
  },
  {
   "cell_type": "code",
   "execution_count": 30,
   "metadata": {},
   "outputs": [],
   "source": [
    "f = lagrange(x, y)"
   ]
  },
  {
   "cell_type": "code",
   "execution_count": null,
   "metadata": {},
   "outputs": [],
   "source": [
    "tmp_x = np.arange(0, 5, 0.01)"
   ]
  },
  {
   "cell_type": "code",
   "execution_count": null,
   "metadata": {},
   "outputs": [
    {
     "data": {
      "text/plain": [
       "[<matplotlib.lines.Line2D at 0x28e3b315fd0>]"
      ]
     },
     "execution_count": 32,
     "metadata": {},
     "output_type": "execute_result"
    },
    {
     "data": {
      "image/png": "[encoded data removed]",
      "text/plain": [
       "<Figure size 432x288 with 1 Axes>"
      ]
     },
     "metadata": {
      "needs_background": "light"
     },
     "output_type": "display_data"
    }
   ],
   "source": [
    "plt.scatter(x, y)\n",
    "plt.plot(tmp_x, f(tmp_x))"
   ]
  },
  {
   "cell_type": "code",
   "execution_count": null,
   "metadata": {},
   "outputs": [
    {
     "name": "stdout",
     "output_type": "stream",
     "text": [
      "填充缺失值前：\n"
     ]
    },
    {
     "data": {
      "text/html": [
       "<div>\n",
       "<style scoped>\n",
       "    .dataframe tbody tr th:only-of-type {\n",
       "        vertical-align: middle;\n",
       "    }\n",
       "\n",
       "    .dataframe tbody tr th {\n",
       "        vertical-align: top;\n",
       "    }\n",
       "\n",
       "    .dataframe thead th {\n",
       "        text-align: right;\n",
       "    }\n",
       "</style>\n",
       "<table border=\"1\" class=\"dataframe\">\n",
       "  <thead>\n",
       "    <tr style=\"text-align: right;\">\n",
       "      <th></th>\n",
       "      <th>0</th>\n",
       "      <th>1</th>\n",
       "      <th>2</th>\n",
       "    </tr>\n",
       "  </thead>\n",
       "  <tbody>\n",
       "    <tr>\n",
       "      <th>0</th>\n",
       "      <td>235.8333</td>\n",
       "      <td>324.0343</td>\n",
       "      <td>478.3231</td>\n",
       "    </tr>\n",
       "    <tr>\n",
       "      <th>1</th>\n",
       "      <td>236.2708</td>\n",
       "      <td>325.6379</td>\n",
       "      <td>515.4564</td>\n",
       "    </tr>\n",
       "    <tr>\n",
       "      <th>2</th>\n",
       "      <td>238.0521</td>\n",
       "      <td>328.0897</td>\n",
       "      <td>517.0909</td>\n",
       "    </tr>\n",
       "    <tr>\n",
       "      <th>3</th>\n",
       "      <td>235.9063</td>\n",
       "      <td>NaN</td>\n",
       "      <td>514.8900</td>\n",
       "    </tr>\n",
       "    <tr>\n",
       "      <th>4</th>\n",
       "      <td>236.7604</td>\n",
       "      <td>268.8324</td>\n",
       "      <td>NaN</td>\n",
       "    </tr>\n",
       "  </tbody>\n",
       "</table>\n",
       "</div>"
      ],
      "text/plain": [
       "          0         1         2\n",
       "0  235.8333  324.0343  478.3231\n",
       "1  236.2708  325.6379  515.4564\n",
       "2  238.0521  328.0897  517.0909\n",
       "3  235.9063       NaN  514.8900\n",
       "4  236.7604  268.8324       NaN"
      ]
     },
     "execution_count": 33,
     "metadata": {},
     "output_type": "execute_result"
    }
   ],
   "source": [
    "inputfile = './data/data_6/missing_data.xls'\n",
    "outputfile = './data/data_6/missing_data_processed.xls'\n",
    "\n",
    "data = pd.read_excel(inputfile, header=None)\n",
    "print('填充缺失值前：')\n",
    "data.head()"
   ]
  },
  {
   "cell_type": "code",
   "execution_count": null,
   "metadata": {},
   "outputs": [
    {
     "name": "stdout",
     "output_type": "stream",
     "text": [
      "填充缺失值后：\n"
     ]
    },
    {
     "data": {
      "text/html": [
       "<div>\n",
       "<style scoped>\n",
       "    .dataframe tbody tr th:only-of-type {\n",
       "        vertical-align: middle;\n",
       "    }\n",
       "\n",
       "    .dataframe tbody tr th {\n",
       "        vertical-align: top;\n",
       "    }\n",
       "\n",
       "    .dataframe thead th {\n",
       "        text-align: right;\n",
       "    }\n",
       "</style>\n",
       "<table border=\"1\" class=\"dataframe\">\n",
       "  <thead>\n",
       "    <tr style=\"text-align: right;\">\n",
       "      <th></th>\n",
       "      <th>0</th>\n",
       "      <th>1</th>\n",
       "      <th>2</th>\n",
       "    </tr>\n",
       "  </thead>\n",
       "  <tbody>\n",
       "    <tr>\n",
       "      <th>0</th>\n",
       "      <td>235.8333</td>\n",
       "      <td>324.034300</td>\n",
       "      <td>478.323100</td>\n",
       "    </tr>\n",
       "    <tr>\n",
       "      <th>1</th>\n",
       "      <td>236.2708</td>\n",
       "      <td>325.637900</td>\n",
       "      <td>515.456400</td>\n",
       "    </tr>\n",
       "    <tr>\n",
       "      <th>2</th>\n",
       "      <td>238.0521</td>\n",
       "      <td>328.089700</td>\n",
       "      <td>517.090900</td>\n",
       "    </tr>\n",
       "    <tr>\n",
       "      <th>3</th>\n",
       "      <td>235.9063</td>\n",
       "      <td>203.462116</td>\n",
       "      <td>514.890000</td>\n",
       "    </tr>\n",
       "    <tr>\n",
       "      <th>4</th>\n",
       "      <td>236.7604</td>\n",
       "      <td>268.832400</td>\n",
       "      <td>493.352591</td>\n",
       "    </tr>\n",
       "  </tbody>\n",
       "</table>\n",
       "</div>"
      ],
      "text/plain": [
       "          0           1           2\n",
       "0  235.8333  324.034300  478.323100\n",
       "1  236.2708  325.637900  515.456400\n",
       "2  238.0521  328.089700  517.090900\n",
       "3  235.9063  203.462116  514.890000\n",
       "4  236.7604  268.832400  493.352591"
      ]
     },
     "execution_count": 34,
     "metadata": {},
     "output_type": "execute_result"
    }
   ],
   "source": [
    "def polyinterp_column(s, n, k=5):\n",
    "    y = s.reindex(list(range(n-k, n)) + list(range(n+1, n+1+k)))\n",
    "    y = y[y.notnull()]\n",
    "    return lagrange(y.index, list(y))(n)\n",
    "\n",
    "for i in data.columns:\n",
    "    for j in range(len(data)):\n",
    "        if data.isnull().iloc[j, i]:\n",
    "            data.iloc[j, i] = polyinterp_column(data[i], j)\n",
    "\n",
    "print('填充缺失值后：')\n",
    "data.head()"
   ]
  },
  {
   "cell_type": "code",
   "execution_count": null,
   "metadata": {},
   "outputs": [],
   "source": [
    "data.to_excel(outputfile, header=None, index=False)"
   ]
  },
  {
   "cell_type": "markdown",
   "metadata": {},
   "source": [
    "数据变换\n",
    "- 通过电力计量系统采集的电量、电荷数据虽然在一定程度上能够反映窃漏电行为的特征，但是不够明显\n",
    "- 利用数据变换，我们可以创建新的评价指标来凸显数据的规律\n",
    "- 电量趋势下降指标：考虑前后几天作为统计窗口期，考虑期间的下降趋势，利用电量做直线拟合所得的斜率作为下降趋势的度量\n",
    "- 线损指标：用于衡量用电线路的损失比例，若用户发生窃漏电，则当天的线损率会上升。但由于线损率有一些日常波动，考虑用前后几天的线损率平均值作为指标\n",
    "- 对统计当天设定前后5天作为统计窗口期，分别统计当天与前五天、当天与后五天的线损率平均值，如果两者差别大于1%，则认为具有一定的窃漏电嫌疑\n",
    "- 告警类指标：与窃漏电相关的终端报警主要有电压缺相、电压断相、电流反极性等告警，计算发生与窃漏电相关的终端报警次数的总和，作为告警类指标"
   ]
  },
  {
   "cell_type": "markdown",
   "metadata": {},
   "source": [
    "**预处理后的数据**"
   ]
  },
  {
   "cell_type": "code",
   "execution_count": null,
   "metadata": {},
   "outputs": [
    {
     "data": {
      "text/html": [
       "<div>\n",
       "<style scoped>\n",
       "    .dataframe tbody tr th:only-of-type {\n",
       "        vertical-align: middle;\n",
       "    }\n",
       "\n",
       "    .dataframe tbody tr th {\n",
       "        vertical-align: top;\n",
       "    }\n",
       "\n",
       "    .dataframe thead th {\n",
       "        text-align: right;\n",
       "    }\n",
       "</style>\n",
       "<table border=\"1\" class=\"dataframe\">\n",
       "  <thead>\n",
       "    <tr style=\"text-align: right;\">\n",
       "      <th></th>\n",
       "      <th>电量趋势下降指标</th>\n",
       "      <th>线损指标</th>\n",
       "      <th>告警类指标</th>\n",
       "      <th>是否窃漏电</th>\n",
       "    </tr>\n",
       "  </thead>\n",
       "  <tbody>\n",
       "    <tr>\n",
       "      <th>0</th>\n",
       "      <td>4</td>\n",
       "      <td>1</td>\n",
       "      <td>1</td>\n",
       "      <td>1</td>\n",
       "    </tr>\n",
       "    <tr>\n",
       "      <th>1</th>\n",
       "      <td>4</td>\n",
       "      <td>0</td>\n",
       "      <td>4</td>\n",
       "      <td>1</td>\n",
       "    </tr>\n",
       "    <tr>\n",
       "      <th>2</th>\n",
       "      <td>2</td>\n",
       "      <td>1</td>\n",
       "      <td>1</td>\n",
       "      <td>1</td>\n",
       "    </tr>\n",
       "    <tr>\n",
       "      <th>3</th>\n",
       "      <td>9</td>\n",
       "      <td>0</td>\n",
       "      <td>0</td>\n",
       "      <td>0</td>\n",
       "    </tr>\n",
       "    <tr>\n",
       "      <th>4</th>\n",
       "      <td>3</td>\n",
       "      <td>1</td>\n",
       "      <td>0</td>\n",
       "      <td>0</td>\n",
       "    </tr>\n",
       "  </tbody>\n",
       "</table>\n",
       "</div>"
      ],
      "text/plain": [
       "   电量趋势下降指标  线损指标  告警类指标  是否窃漏电\n",
       "0         4     1      1      1\n",
       "1         4     0      4      1\n",
       "2         2     1      1      1\n",
       "3         9     0      0      0\n",
       "4         3     1      0      0"
      ]
     },
     "execution_count": 36,
     "metadata": {},
     "output_type": "execute_result"
    }
   ],
   "source": [
    "datafile = './data/data_6/model.xls'\n",
    "data = pd.read_excel(datafile)\n",
    "data.head()"
   ]
  },
  {
   "cell_type": "markdown",
   "metadata": {},
   "source": [
    "### 模型构建"
   ]
  },
  {
   "cell_type": "markdown",
   "metadata": {},
   "source": [
    "常见的分类预测模型有LM神经网络和CART决策树，构建这两个模型，从中选择最优的模型"
   ]
  },
  {
   "cell_type": "code",
   "execution_count": null,
   "metadata": {},
   "outputs": [
    {
     "name": "stdout",
     "output_type": "stream",
     "text": [
      "train set size: 232\n",
      "test set size: 59\n"
     ]
    }
   ],
   "source": [
    "# 划分训练集和测试集\n",
    "from sklearn.model_selection import train_test_split\n",
    "\n",
    "X_train, X_test, y_train, y_test = train_test_split(data.iloc[:, :3], data.iloc[:, 3], test_size=0.2, random_state=0, stratify=data.iloc[:, 3])\n",
    "\n",
    "print('train set size: {}'.format(X_train.shape[0]))\n",
    "print('test set size: {}'.format(X_test.shape[0]))"
   ]
  },
  {
   "cell_type": "code",
   "execution_count": null,
   "metadata": {},
   "outputs": [],
   "source": [
    "def cm_plot(y_true, y_pred):\n",
    "    cm = confusion_matrix(y_true, y_pred)\n",
    "    sns.heatmap(cm, linewidths=0.2, cmap='gray', annot=True, fmt='d', annot_kws={'size': 18},\n",
    "                xticklabels=[0, 1], yticklabels=[0, 1])"
   ]
  },
  {
   "cell_type": "code",
   "execution_count": null,
   "metadata": {},
   "outputs": [],
   "source": [
    "# 构建LM神经网络模型\n",
    "from keras.models import Sequential\n",
    "from keras.layers.core import Dense, Activation\n",
    "\n",
    "netfile = './data/data_6/net.model'\n",
    "\n",
    "net = Sequential()\n",
    "net.add(Dense(10, input_shape=(3, )))\n",
    "net.add(Activation('relu'))\n",
    "net.add(Dense(1))\n",
    "net.add(Activation('sigmoid'))\n",
    "net.compile(loss='binary_crossentropy', optimizer='adam', metrics=['accuracy'])\n",
    "\n",
    "# 训练模型\n",
    "net.fit(X_train, y_train, batch_size=1, epochs=1000, verbose=0)\n",
    "\n",
    "# 测试模型\n",
    "cm_plot(y_train, net.predict_classes(X_train))"
   ]
  }
 ],
 "metadata": {
  "kernelspec": {
   "display_name": "Python 3",
   "language": "python",
   "name": "python3"
  },
  "language_info": {
   "codemirror_mode": {
    "name": "ipython",
    "version": 3
   },
   "file_extension": ".py",
   "mimetype": "text/x-python",
   "name": "python",
   "nbconvert_exporter": "python",
   "pygments_lexer": "ipython3",
   "version": "3.7.1"
  }
 },
 "nbformat": 4,
 "nbformat_minor": 2
}
