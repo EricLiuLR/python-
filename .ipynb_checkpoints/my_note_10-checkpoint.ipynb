{
 "cells": [
  {
   "cell_type": "markdown",
   "metadata": {},
   "source": [
    "# 家用电器用户行为分析与事件识别"
   ]
  },
  {
   "cell_type": "markdown",
   "metadata": {},
   "source": [
    "# 挖掘目标"
   ]
  },
  {
   "cell_type": "markdown",
   "metadata": {},
   "source": [
    "- 根据热水器采集到的数据，划分一次完整的用水事件\n",
    "- 在划分好的一次完整的用水事件中，识别出洗浴事件"
   ]
  },
  {
   "cell_type": "markdown",
   "metadata": {},
   "source": [
    "## 分析方法与过程"
   ]
  },
  {
   "cell_type": "markdown",
   "metadata": {},
   "source": [
    "**步骤**\n",
    "- 对热水用户的历史数据进行选择性抽取，构建专家样本\n",
    "- 数据探索和预处理，对用水样本数据建立用水事件时间间隔识别模型和划分一次完整用水事件模型，再在一次完整用水事件划分结果的基础上，剔除短暂用水事件，缩小识别范围\n",
    "- 建立洗浴事件识别模型，对模型进行分析评价\n",
    "- 应用模型，并对洗浴事件划分进行优化\n",
    "- 调用洗浴事件识别模型，对实时监控的热水器流水数据进行洗浴事件自动识别"
   ]
  },
  {
   "cell_type": "markdown",
   "metadata": {},
   "source": [
    "### 数据抽取"
   ]
  },
  {
   "cell_type": "markdown",
   "metadata": {},
   "source": [
    "只能热水器在状态发生改变或者水流量非零时，每两秒会采集一条数据，数据总量非常巨大。\n",
    "\n",
    "本案例对原始数据采用无放回随机抽样的方法抽取200家热水器用户从2014年1月1日到2014年12月31日的用水记录作为原始建模数据"
   ]
  },
  {
   "cell_type": "markdown",
   "metadata": {},
   "source": [
    "### 数据探索分析"
   ]
  },
  {
   "cell_type": "markdown",
   "metadata": {},
   "source": [
    "为了探索用户真实用水停顿时间间隔的分布情况，统计用户用水停顿时间并作频率分布直方图。\n",
    "\n",
    "发现停顿时间间隔为0-0.3分钟的频率很高，为一次用水之间的停顿；停顿时间间隔为6-13分钟的频率很低，分析为两次用水之间的间隔。"
   ]
  },
  {
   "cell_type": "markdown",
   "metadata": {},
   "source": [
    "### 数据预处理"
   ]
  },
  {
   "cell_type": "markdown",
   "metadata": {},
   "source": [
    "**属性规约**\n",
    "- 因为要对用户的一般规律进行挖掘分析，所以“热水器编号”可以去除；\n",
    "- 热水器采集的数据中，“有无水流”可以用“水流量”反映，“有无水流”可以去除；\n",
    "- “节能模式”都为“关”，可以去除；\n",
    "\n",
    "**数值规约**\n",
    "- 当热水器“开关机状态”为“关”且水流量为0时，说明热水器不处于工作状态，这些记录可以删除掉\n",
    "\n",
    "**数据变换**\n",
    "\n",
    "- 本案例的目标是对热水器用户的洗浴事件进行识别，这就需要从原始数据中识别出哪些状态是一个完整的用水事件，从而再识别出用水事件中的洗浴事件；\n",
    "- 一次完整的用水事件是根据水流量和停顿时间间隔的阈值去划分的，所以本案例还建立了阈值寻优模型；\n",
    "- 为了提高在大量的一次完整用水事件中寻找洗浴事件的效率，本案例建立了筛选规则提出可以明显判定不是洗浴的事件"
   ]
  },
  {
   "cell_type": "code",
   "execution_count": 32,
   "metadata": {},
   "outputs": [],
   "source": [
    "# 划分用水事件\n",
    "import pandas as pd\n",
    "\n",
    "threshold = pd.Timedelta(value=4, unit='m')\n",
    "inputfile = './data/data_10/water_heater.xls'\n",
    "outputfile = './data/data_10/dividedsequence.xls'\n",
    "\n",
    "data = pd.read_excel(inputfile)\n",
    "data['发生时间'] = data['发生时间'].astype(object)\n",
    "data['发生时间'] = pd.to_datetime(data['发生时间'], format='%Y%m%d%H%M%S')\n",
    "data = data[data['水流量'] > 0]\n",
    "data['事件编号'] = (data['发生时间'].diff() > threshold).cumsum() + 1\n",
    "\n",
    "data.to_excel(outputfile)"
   ]
  },
  {
   "cell_type": "code",
   "execution_count": null,
   "metadata": {},
   "outputs": [],
   "source": []
  }
 ],
 "metadata": {
  "kernelspec": {
   "display_name": "Python 3",
   "language": "python",
   "name": "python3"
  },
  "language_info": {
   "codemirror_mode": {
    "name": "ipython",
    "version": 3
   },
   "file_extension": ".py",
   "mimetype": "text/x-python",
   "name": "python",
   "nbconvert_exporter": "python",
   "pygments_lexer": "ipython3",
   "version": "3.7.1"
  }
 },
 "nbformat": 4,
 "nbformat_minor": 2
}
