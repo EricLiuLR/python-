{
 "cells": [
  {
   "cell_type": "markdown",
   "metadata": {},
   "source": [
    "# 挖掘建模"
   ]
  },
  {
   "cell_type": "markdown",
   "metadata": {},
   "source": [
    "经过数据探索和数据预处理，得到了可以直接建模的数据。根据数据挖掘目标和数据形式可以建立分类与预测、聚类分析、关联分析、时序模式和偏差检测等模型，帮助企业提取数据中蕴含的商业价值，提高企业的竞争力。"
   ]
  },
  {
   "cell_type": "markdown",
   "metadata": {},
   "source": [
    "## 分类与预测"
   ]
  },
  {
   "cell_type": "markdown",
   "metadata": {},
   "source": [
    "分类和预测是预测问题的两种主要类型\n",
    "- 分类主要是预测分类标号\n",
    "- 预测主要是建立连续值函数模型，预测给定自变量对应的因变量的值"
   ]
  },
  {
   "cell_type": "markdown",
   "metadata": {},
   "source": [
    "### 常见的分类与预测算法"
   ]
  },
  {
   "cell_type": "markdown",
   "metadata": {},
   "source": [
    "- 回归分析\n",
    "    - 线性回归\n",
    "    - 非线性回归\n",
    "    - Logistic回归\n",
    "    - 岭回归\n",
    "    - 主成分回归\n",
    "    - 偏最小二乘回归\n",
    "- 决策树\n",
    "- 人工神经网络\n",
    "- 贝叶斯网络\n",
    "- 支持向量机"
   ]
  },
  {
   "cell_type": "markdown",
   "metadata": {},
   "source": [
    "### 回归分析"
   ]
  },
  {
   "cell_type": "code",
   "execution_count": 13,
   "metadata": {},
   "outputs": [],
   "source": [
    "import warnings\n",
    "warnings.filterwarnings('ignore')"
   ]
  },
  {
   "cell_type": "code",
   "execution_count": 14,
   "metadata": {},
   "outputs": [],
   "source": [
    "import pandas as pd\n",
    "from sklearn.linear_model import LogisticRegression\n",
    "from sklearn.linear_model import RandomizedLogisticRegression"
   ]
  },
  {
   "cell_type": "code",
   "execution_count": 15,
   "metadata": {},
   "outputs": [],
   "source": [
    "# 导入数据集\n",
    "filename = './data/data_5/bankloan.xls'\n",
    "data = pd.read_excel(filename)\n",
    "\n",
    "# 准备数据\n",
    "X = data.drop('违约', axis=1).values\n",
    "y = data['违约'].values"
   ]
  },
  {
   "cell_type": "code",
   "execution_count": 16,
   "metadata": {},
   "outputs": [
    {
     "name": "stdout",
     "output_type": "stream",
     "text": [
      "模型的平均正确率为：0.8057142857142857\n"
     ]
    }
   ],
   "source": [
    "# 无特征选择的建模\n",
    "lr = LogisticRegression(solver='liblinear').fit(X, y)\n",
    "print('模型的平均正确率为：{}'.format(lr.score(X, y)))"
   ]
  },
  {
   "cell_type": "code",
   "execution_count": 17,
   "metadata": {},
   "outputs": [
    {
     "name": "stdout",
     "output_type": "stream",
     "text": [
      "特征得分为：[0.06  0.085 0.995 0.385 0.    0.995 0.585 0.025]\n",
      "特征选择结果为：[False False  True  True False  True  True False]\n",
      "选择的有效特征为： ['工龄' '地址' '负债率' '信用卡负债']\n",
      "特征选择后数据集的形状为：(700, 4)\n"
     ]
    }
   ],
   "source": [
    "# 特征选择\n",
    "features = data.columns[:-1].copy()\n",
    "rlr = RandomizedLogisticRegression().fit(X, y)\n",
    "print('特征得分为：{}'.format(rlr.scores_))\n",
    "print('特征选择结果为：{}'.format(rlr.get_support()))\n",
    "print('选择的有效特征为： {}'.format(features[rlr.get_support()].values))\n",
    "X = data[features[rlr.get_support()]].values\n",
    "print('特征选择后数据集的形状为：{}'.format(X.shape))"
   ]
  },
  {
   "cell_type": "code",
   "execution_count": 18,
   "metadata": {},
   "outputs": [
    {
     "name": "stdout",
     "output_type": "stream",
     "text": [
      "模型的平均正确率为：0.8142857142857143\n"
     ]
    }
   ],
   "source": [
    "# 特征选择后的建模\n",
    "lr = LogisticRegression().fit(X, y)\n",
    "print('模型的平均正确率为：{}'.format(lr.score(X, y)))"
   ]
  },
  {
   "cell_type": "markdown",
   "metadata": {},
   "source": [
    "特征选择方法：\n",
    "- 递归特征消除\n",
    "- 稳定性选择"
   ]
  },
  {
   "cell_type": "markdown",
   "metadata": {},
   "source": [
    "**Logistic回归本质上是一种线性模型，这里的有效性检验本质上还是一种线性相关检验，因此筛选出来的变量只是与结果具有较强的线性相关性，变量没有被保留，也只是因为没有明显的线性相关性，但是可能存在一些非线性的关系，实际操作中需要根据问题的背景对筛选结果进行分析。**\n",
    "\n",
    "对于非线性关系的变量筛选方法有决策树、神经网络等。"
   ]
  },
  {
   "cell_type": "markdown",
   "metadata": {},
   "source": [
    "### 决策树"
   ]
  },
  {
   "cell_type": "code",
   "execution_count": 19,
   "metadata": {},
   "outputs": [],
   "source": [
    "from sklearn.tree import DecisionTreeClassifier"
   ]
  },
  {
   "cell_type": "code",
   "execution_count": 20,
   "metadata": {},
   "outputs": [],
   "source": [
    "filename = './data/data_5/sales_data.xls'\n",
    "data = pd.read_excel(filename, index_col='序号')\n",
    "\n",
    "data[data == '好'] = 1\n",
    "data[data == '是'] = 1\n",
    "data[data == '高'] = 1\n",
    "data[data != 1] = -1\n",
    "data = data.astype(int)\n",
    "\n",
    "X = data.drop('销量', axis=1).values\n",
    "y = data['销量'].values\n",
    "\n",
    "dtc = DecisionTreeClassifier(criterion='entropy').fit(X, y)"
   ]
  },
  {
   "cell_type": "code",
   "execution_count": 21,
   "metadata": {},
   "outputs": [],
   "source": [
    "from sklearn.tree import export_graphviz"
   ]
  },
  {
   "cell_type": "code",
   "execution_count": 22,
   "metadata": {},
   "outputs": [],
   "source": [
    "with open('./data/data_5/tree.dot', 'w') as f:\n",
    "    f = export_graphviz(dtc, feature_names=data.columns[:-1].copy().values, out_file=f)"
   ]
  },
  {
   "cell_type": "markdown",
   "metadata": {},
   "source": [
    "### 人工神经网络"
   ]
  },
  {
   "cell_type": "code",
   "execution_count": 23,
   "metadata": {},
   "outputs": [],
   "source": [
    "filename = './data/data_5/sales_data.xls'\n",
    "data = pd.read_excel(filename, index_col='序号')\n",
    "\n",
    "data[data == '好'] = 1\n",
    "data[data == '是'] = 1\n",
    "data[data == '高'] = 1\n",
    "data[data != 1] = -1\n",
    "data = data.astype(int)\n",
    "\n",
    "X = data.drop('销量', axis=1).values\n",
    "y = data['销量'].values"
   ]
  },
  {
   "cell_type": "code",
   "execution_count": 24,
   "metadata": {},
   "outputs": [
    {
     "name": "stdout",
     "output_type": "stream",
     "text": [
      "Epoch 1/10\n",
      "34/34 [==============================] - 0s 10ms/step - loss: 0.3344 - acc: 0.2059\n",
      "Epoch 2/10\n",
      "34/34 [==============================] - 0s 176us/step - loss: 0.3306 - acc: 0.2059\n",
      "Epoch 3/10\n",
      "34/34 [==============================] - 0s 118us/step - loss: 0.3268 - acc: 0.2059\n",
      "Epoch 4/10\n",
      "34/34 [==============================] - 0s 59us/step - loss: 0.3230 - acc: 0.2059\n",
      "Epoch 5/10\n",
      "34/34 [==============================] - 0s 176us/step - loss: 0.3195 - acc: 0.2059\n",
      "Epoch 6/10\n",
      "34/34 [==============================] - 0s 118us/step - loss: 0.3159 - acc: 0.2059\n",
      "Epoch 7/10\n",
      "34/34 [==============================] - 0s 147us/step - loss: 0.3122 - acc: 0.1765\n",
      "Epoch 8/10\n",
      "34/34 [==============================] - 0s 206us/step - loss: 0.3085 - acc: 0.1765\n",
      "Epoch 9/10\n",
      "34/34 [==============================] - 0s 88us/step - loss: 0.3048 - acc: 0.1765\n",
      "Epoch 10/10\n",
      "34/34 [==============================] - 0s 88us/step - loss: 0.3010 - acc: 0.1765\n"
     ]
    },
    {
     "data": {
      "text/plain": [
       "array([[ 0, 14,  2],\n",
       "       [ 0,  0,  0],\n",
       "       [ 0, 12,  6]], dtype=int64)"
      ]
     },
     "execution_count": 24,
     "metadata": {},
     "output_type": "execute_result"
    }
   ],
   "source": [
    "from keras.models import Sequential\n",
    "from keras.layers.core import Dense, Activation\n",
    "\n",
    "model = Sequential()\n",
    "model.add(Dense(10))\n",
    "model.add(Activation('relu'))\n",
    "model.add(Dense(1))\n",
    "model.add(Activation('sigmoid'))\n",
    "\n",
    "model.compile(loss='binary_crossentropy', optimizer='adam', class_mode='binary', metrics=['accuracy'])\n",
    "\n",
    "model.fit(X, y, nb_epoch=10, batch_size=1000)\n",
    "yp = model.predict_classes(X).reshape(len(y))\n",
    "\n",
    "from sklearn.metrics import confusion_matrix\n",
    "confusion_matrix(y, yp)"
   ]
  },
  {
   "cell_type": "markdown",
   "metadata": {},
   "source": [
    "### 分类与预测算法评价"
   ]
  },
  {
   "cell_type": "markdown",
   "metadata": {},
   "source": [
    "- 绝对误差与相对误差\n",
    "- 平均绝对误差\n",
    "- 均方误差\n",
    "- 均方根误差\n",
    "- 平均绝对百分误差\n",
    "- Kappa统计\n",
    "- 识别准确率（accuracy）\n",
    "- 识别精确率（Precision）\n",
    "- 识别反馈率（Recall）\n",
    "- ROC曲线（Sencitivity(Recall) - (1-Specificity)）\n",
    "- 混淆矩阵"
   ]
  },
  {
   "cell_type": "markdown",
   "metadata": {},
   "source": [
    "## 聚类分析"
   ]
  },
  {
   "cell_type": "markdown",
   "metadata": {},
   "source": [
    "聚类的输入是一组未被标记的样本，聚类根据数据之间的距离或者相似度将其划分为若干组，划分的原则是组内距离最小化而组间距离最大化。"
   ]
  },
  {
   "cell_type": "markdown",
   "metadata": {},
   "source": [
    "- K-Means\n",
    "- K-中心点\n",
    "- 系统聚类"
   ]
  },
  {
   "cell_type": "markdown",
   "metadata": {},
   "source": [
    "### K-Means聚类算法"
   ]
  },
  {
   "cell_type": "markdown",
   "metadata": {},
   "source": [
    "- 对于连续属性，要先对各属性值进行零-均值规范\n",
    "- 对于文档数据间的相似度，使用余弦相似性\n",
    "- 对于不同的聚类结果，选择误差平方和（各个点到所属簇中心点的距离平方和）较小的一个"
   ]
  },
  {
   "cell_type": "code",
   "execution_count": 38,
   "metadata": {},
   "outputs": [],
   "source": [
    "inputfile = './data/data_5/consumption_data.xls'\n",
    "k = 3\n",
    "iteration = 500\n",
    "data = pd.read_excel(inputfile, index_col='Id')\n",
    "data_zc = 1.0 * (data - data.mean()) / data.std()\n",
    "\n",
    "from sklearn.cluster import KMeans\n",
    "\n",
    "model = KMeans(n_clusters=k, max_iter=iteration).fit(data_zc)"
   ]
  },
  {
   "cell_type": "code",
   "execution_count": 39,
   "metadata": {},
   "outputs": [
    {
     "data": {
      "text/plain": [
       "array([[-0.16045063,  1.11480154,  0.39284443],\n",
       "       [-0.14935336, -0.65889299, -0.27177977],\n",
       "       [ 3.45505486, -0.29565357,  0.44912342]])"
      ]
     },
     "execution_count": 39,
     "metadata": {},
     "output_type": "execute_result"
    }
   ],
   "source": [
    "model.cluster_centers_"
   ]
  },
  {
   "cell_type": "code",
   "execution_count": 40,
   "metadata": {},
   "outputs": [
    {
     "data": {
      "text/plain": [
       "array([1, 1, 0, 1, 1, 1, 1, 1, 1, 0, 1, 1, 0, 0, 1, 0, 2, 1, 1, 1])"
      ]
     },
     "execution_count": 40,
     "metadata": {},
     "output_type": "execute_result"
    }
   ],
   "source": [
    "model.labels_[:20]"
   ]
  },
  {
   "cell_type": "code",
   "execution_count": 42,
   "metadata": {},
   "outputs": [
    {
     "data": {
      "text/html": [
       "<div>\n",
       "<style scoped>\n",
       "    .dataframe tbody tr th:only-of-type {\n",
       "        vertical-align: middle;\n",
       "    }\n",
       "\n",
       "    .dataframe tbody tr th {\n",
       "        vertical-align: top;\n",
       "    }\n",
       "\n",
       "    .dataframe thead th {\n",
       "        text-align: right;\n",
       "    }\n",
       "</style>\n",
       "<table border=\"1\" class=\"dataframe\">\n",
       "  <thead>\n",
       "    <tr style=\"text-align: right;\">\n",
       "      <th></th>\n",
       "      <th>R</th>\n",
       "      <th>F</th>\n",
       "      <th>M</th>\n",
       "      <th>类别</th>\n",
       "    </tr>\n",
       "    <tr>\n",
       "      <th>Id</th>\n",
       "      <th></th>\n",
       "      <th></th>\n",
       "      <th></th>\n",
       "      <th></th>\n",
       "    </tr>\n",
       "  </thead>\n",
       "  <tbody>\n",
       "    <tr>\n",
       "      <th>1</th>\n",
       "      <td>27</td>\n",
       "      <td>6</td>\n",
       "      <td>232.61</td>\n",
       "      <td>1</td>\n",
       "    </tr>\n",
       "    <tr>\n",
       "      <th>2</th>\n",
       "      <td>3</td>\n",
       "      <td>5</td>\n",
       "      <td>1507.11</td>\n",
       "      <td>1</td>\n",
       "    </tr>\n",
       "    <tr>\n",
       "      <th>3</th>\n",
       "      <td>4</td>\n",
       "      <td>16</td>\n",
       "      <td>817.62</td>\n",
       "      <td>0</td>\n",
       "    </tr>\n",
       "    <tr>\n",
       "      <th>4</th>\n",
       "      <td>3</td>\n",
       "      <td>11</td>\n",
       "      <td>232.81</td>\n",
       "      <td>1</td>\n",
       "    </tr>\n",
       "    <tr>\n",
       "      <th>5</th>\n",
       "      <td>14</td>\n",
       "      <td>7</td>\n",
       "      <td>1913.05</td>\n",
       "      <td>1</td>\n",
       "    </tr>\n",
       "  </tbody>\n",
       "</table>\n",
       "</div>"
      ],
      "text/plain": [
       "     R   F        M  类别\n",
       "Id                     \n",
       "1   27   6   232.61   1\n",
       "2    3   5  1507.11   1\n",
       "3    4  16   817.62   0\n",
       "4    3  11   232.81   1\n",
       "5   14   7  1913.05   1"
      ]
     },
     "execution_count": 42,
     "metadata": {},
     "output_type": "execute_result"
    }
   ],
   "source": [
    "data['类别'] = model.labels_\n",
    "data.head()"
   ]
  },
  {
   "cell_type": "code",
   "execution_count": 49,
   "metadata": {},
   "outputs": [],
   "source": [
    "import seaborn as sns\n",
    "import matplotlib.pyplot as plt\n",
    "plt.rcParams['font.sans-serif'] = ['SimHei']\n",
    "plt.rcParams['axes.unicode_minus'] = False"
   ]
  },
  {
   "cell_type": "code",
   "execution_count": 51,
   "metadata": {},
   "outputs": [
    {
     "data": {
      "image/png": "[encoded data removed]",
      "text/plain": [
       "<Figure size 1728x432 with 3 Axes>"
      ]
     },
     "metadata": {
      "needs_background": "light"
     },
     "output_type": "display_data"
    }
   ],
   "source": [
    "plt.figure(figsize=(24, 6))\n",
    "for i in range(3):\n",
    "    plt.subplot(1, 3, i+1)\n",
    "    sns.violinplot(data=data, y=data.columns[i], x='类别')"
   ]
  },
  {
   "cell_type": "code",
   "execution_count": 52,
   "metadata": {},
   "outputs": [
    {
     "data": {
      "image/png": "[encoded data removed]",
      "text/plain": [
       "<Figure size 1728x432 with 3 Axes>"
      ]
     },
     "metadata": {
      "needs_background": "light"
     },
     "output_type": "display_data"
    }
   ],
   "source": [
    "plt.figure(figsize=(24, 6))\n",
    "for i in range(3):\n",
    "    plt.subplot(1, 3, i+1)\n",
    "    sns.boxplot(data=data, y=data.columns[i], x='类别')"
   ]
  },
  {
   "cell_type": "markdown",
   "metadata": {},
   "source": [
    "### 聚类分析算法评价"
   ]
  },
  {
   "cell_type": "markdown",
   "metadata": {},
   "source": [
    "- purity评价法\n",
    "- RI评价法\n",
    "- F值评价法"
   ]
  },
  {
   "cell_type": "markdown",
   "metadata": {},
   "source": [
    "### Python主要聚类分析算法"
   ]
  },
  {
   "cell_type": "markdown",
   "metadata": {},
   "source": [
    "sklearn.cluster\n",
    "- KMeans：K均值聚类\n",
    "- AffinityPropagation：吸引力传播聚类，几乎优于所有其"
   ]
  }
 ],
 "metadata": {
  "kernelspec": {
   "display_name": "Python 3",
   "language": "python",
   "name": "python3"
  },
  "language_info": {
   "codemirror_mode": {
    "name": "ipython",
    "version": 3
   },
   "file_extension": ".py",
   "mimetype": "text/x-python",
   "name": "python",
   "nbconvert_exporter": "python",
   "pygments_lexer": "ipython3",
   "version": "3.7.1"
  }
 },
 "nbformat": 4,
 "nbformat_minor": 2
}
