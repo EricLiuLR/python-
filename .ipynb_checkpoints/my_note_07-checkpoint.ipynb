{
 "cells": [
  {
   "cell_type": "markdown",
   "metadata": {},
   "source": [
    "# 航空公司客户价值分析"
   ]
  },
  {
   "cell_type": "markdown",
   "metadata": {},
   "source": [
    "# 挖掘目标"
   ]
  },
  {
   "cell_type": "markdown",
   "metadata": {},
   "source": [
    "- 借助航空公司客户数据，，对客户进行分类\n",
    "- 对不同客户类别进行特征分析，比较不同类客户的客户价值\n",
    "- 对不同价值的客户类别提供个性化服务，制定相应的营销策略"
   ]
  },
  {
   "cell_type": "markdown",
   "metadata": {},
   "source": [
    "## 分析方法和过程"
   ]
  },
  {
   "cell_type": "markdown",
   "metadata": {},
   "source": [
    "识别客户价值应用最广泛的模型是通过三个指标（最近消费间隔（Recency），消费频率（Frequency）和消费金额（Monetary））来进行客户细分，识别出高价值的客户，简称RFM模型。\n",
    "\n",
    "而在航空公司的情况中，由于航班票价收到距离、舱位等等多个条件的影响，只是消费金额并不能表示客户对于航空公司的价值，我们使用客户在一段时间内累积的飞行里程M和客户在一定时间内乘坐仓位所对应的折扣系数C替代消费金额，李伟考虑到航空公司会员入会时间的长短在一定程度上能够影响客户价值，所以在模型中增加客户关系长度L。\n",
    "\n",
    "最终，我们采用：\n",
    "- 客户关系长度L\n",
    "- 最近消费时间间隔R\n",
    "- 消费频率F\n",
    "- 飞行里程M\n",
    "- 折扣系数C\n",
    "五个指标来作为航空公司识别客户的价值指标，使用K-Means进行聚类分析，找到有价值的客户，记为LRFMC模型。"
   ]
  },
  {
   "cell_type": "markdown",
   "metadata": {},
   "source": [
    "航空客运信息挖掘主要包括以下步骤：\n",
    "- 从航空公司的数据源中进行选择性抽取与新增数据抽取分别形成历史数据和增量数据\n",
    "- 对步骤1中形成的两个数据集进行数据探索分析与预处理，包括数据缺失值与异常值的探索分析，数据的属性规约、清洗和变换\n",
    "- 利用步骤2形成的数据建模进行客户分群，对各个客户群进行特征分析，识别出有价值的客户\n",
    "- 针对模型结果得到不同价值的客户，采用不同的营销手段，提供定制化的服务"
   ]
  },
  {
   "cell_type": "markdown",
   "metadata": {},
   "source": [
    "### 数据抽取"
   ]
  },
  {
   "cell_type": "markdown",
   "metadata": {},
   "source": [
    "从航空公司系统内的客户基本信息、乘机信息以及积分信息等详细数据中，根据末次飞行日期，抽取2012-04-01到2014-03-31内所有乘客的详细数据，总共62988条记录，包含会员卡号、性别、飞行次数等44个属性。"
   ]
  },
  {
   "cell_type": "markdown",
   "metadata": {},
   "source": [
    "### 数据探索分析"
   ]
  },
  {
   "cell_type": "code",
   "execution_count": 1,
   "metadata": {},
   "outputs": [],
   "source": [
    "# 对数据进行基本的探索\n",
    "# 查找每列属性中的空值个数、最大值、最小值信息\n",
    "\n",
    "import pandas as pd\n",
    "\n",
    "datafile = './data/data_7/air_data.csv'\n",
    "resultfile = './data/data_7/explore.xls'\n",
    "\n",
    "data = pd.read_csv(datafile)\n",
    "explore = data.describe(include='all').T[['count', 'max', 'min']]\n",
    "\n",
    "explore['count'] = len(data) - explore['count']\n",
    "explore.columns = ['空值记录数', '最大值', '最小值']\n",
    "\n",
    "explore.to_excel(resultfile)"
   ]
  },
  {
   "cell_type": "code",
   "execution_count": 2,
   "metadata": {},
   "outputs": [
    {
     "data": {
      "text/html": [
       "<div>\n",
       "<style scoped>\n",
       "    .dataframe tbody tr th:only-of-type {\n",
       "        vertical-align: middle;\n",
       "    }\n",
       "\n",
       "    .dataframe tbody tr th {\n",
       "        vertical-align: top;\n",
       "    }\n",
       "\n",
       "    .dataframe thead th {\n",
       "        text-align: right;\n",
       "    }\n",
       "</style>\n",
       "<table border=\"1\" class=\"dataframe\">\n",
       "  <thead>\n",
       "    <tr style=\"text-align: right;\">\n",
       "      <th></th>\n",
       "      <th>空值记录数</th>\n",
       "      <th>最大值</th>\n",
       "      <th>最小值</th>\n",
       "    </tr>\n",
       "  </thead>\n",
       "  <tbody>\n",
       "    <tr>\n",
       "      <th>SUM_YR_1</th>\n",
       "      <td>551</td>\n",
       "      <td>239560</td>\n",
       "      <td>0</td>\n",
       "    </tr>\n",
       "    <tr>\n",
       "      <th>SUM_YR_2</th>\n",
       "      <td>138</td>\n",
       "      <td>234188</td>\n",
       "      <td>0</td>\n",
       "    </tr>\n",
       "    <tr>\n",
       "      <th>avg_discount</th>\n",
       "      <td>0</td>\n",
       "      <td>1.5</td>\n",
       "      <td>0</td>\n",
       "    </tr>\n",
       "    <tr>\n",
       "      <th>SEG_KM_SUM</th>\n",
       "      <td>0</td>\n",
       "      <td>580717</td>\n",
       "      <td>368</td>\n",
       "    </tr>\n",
       "  </tbody>\n",
       "</table>\n",
       "</div>"
      ],
      "text/plain": [
       "             空值记录数     最大值  最小值\n",
       "SUM_YR_1       551  239560    0\n",
       "SUM_YR_2       138  234188    0\n",
       "avg_discount     0     1.5    0\n",
       "SEG_KM_SUM       0  580717  368"
      ]
     },
     "execution_count": 2,
     "metadata": {},
     "output_type": "execute_result"
    }
   ],
   "source": [
    "explore.loc[['SUM_YR_1', 'SUM_YR_2', 'avg_discount', 'SEG_KM_SUM']]"
   ]
  },
  {
   "cell_type": "markdown",
   "metadata": {},
   "source": [
    "经过探索我们发现，在票价、平均折扣率和总飞信公里数中，都出现了0值，对于任何一个有飞行记录的客户来讲，这都是不合理，可能是由于记录错误导致。\n",
    "\n",
    "除非该客户在这段时间内没有乘坐过任何航班，那么上述属性同时为零，这是合理的情况。"
   ]
  },
  {
   "cell_type": "markdown",
   "metadata": {},
   "source": [
    "### 数据预处理"
   ]
  },
  {
   "cell_type": "markdown",
   "metadata": {},
   "source": [
    "**数据清洗**"
   ]
  },
  {
   "cell_type": "markdown",
   "metadata": {},
   "source": [
    "过滤所有不符合常理的数据，首先要去除所有票价为空值的数据，此外，符合常理的数据包括以下几种情况：\n",
    "- 票价不为0\n",
    "- 平均折扣率和总飞行公里数同时为0"
   ]
  },
  {
   "cell_type": "code",
   "execution_count": 3,
   "metadata": {},
   "outputs": [
    {
     "name": "stdout",
     "output_type": "stream",
     "text": [
      "原始数据集大小：62988\n",
      "去除票价为空值后数据集大小：62299\n",
      "去除不合理数据后数据集大小：62044\n"
     ]
    }
   ],
   "source": [
    "datafile = './data/data_7/air_data.csv'\n",
    "cleanedfile = './data/data_7/data_cleaned.csv'\n",
    "\n",
    "data = pd.read_csv(datafile)\n",
    "\n",
    "print('原始数据集大小：{}'.format(data.shape[0]))\n",
    "data = data[(data['SUM_YR_1'].notnull()) & (data['SUM_YR_2'].notnull())]\n",
    "print('去除票价为空值后数据集大小：{}'.format(data.shape[0]))\n",
    "cond1 = data['SUM_YR_1'] != 0\n",
    "cond2 = data['SUM_YR_2'] != 0\n",
    "cond3 = (data.avg_discount == 0) & (data.SEG_KM_SUM == 0)\n",
    "cond = cond1 | cond2 | cond3\n",
    "data = data[cond]\n",
    "print('去除不合理数据后数据集大小：{}'.format(data.shape[0]))\n",
    "data.to_csv(cleanedfile)"
   ]
  },
  {
   "cell_type": "markdown",
   "metadata": {},
   "source": [
    "**属性规约**"
   ]
  },
  {
   "cell_type": "markdown",
   "metadata": {},
   "source": [
    "选择与LRFMC指标相关的6个属性：\n",
    "- FFP_DATE\n",
    "- LOAD_TIME\n",
    "- FLIGHT_COUNT\n",
    "- avg_discount\n",
    "- SEG_KM_SUM\n",
    "- LAST_TO_END"
   ]
  },
  {
   "cell_type": "code",
   "execution_count": 4,
   "metadata": {},
   "outputs": [
    {
     "data": {
      "text/html": [
       "<div>\n",
       "<style scoped>\n",
       "    .dataframe tbody tr th:only-of-type {\n",
       "        vertical-align: middle;\n",
       "    }\n",
       "\n",
       "    .dataframe tbody tr th {\n",
       "        vertical-align: top;\n",
       "    }\n",
       "\n",
       "    .dataframe thead th {\n",
       "        text-align: right;\n",
       "    }\n",
       "</style>\n",
       "<table border=\"1\" class=\"dataframe\">\n",
       "  <thead>\n",
       "    <tr style=\"text-align: right;\">\n",
       "      <th></th>\n",
       "      <th>ffp_date</th>\n",
       "      <th>load_time</th>\n",
       "      <th>flight_count</th>\n",
       "      <th>avg_discount</th>\n",
       "      <th>seg_km_sum</th>\n",
       "      <th>last_to_end</th>\n",
       "    </tr>\n",
       "  </thead>\n",
       "  <tbody>\n",
       "    <tr>\n",
       "      <th>0</th>\n",
       "      <td>2006/11/02</td>\n",
       "      <td>2014/03/31</td>\n",
       "      <td>210</td>\n",
       "      <td>0.961639</td>\n",
       "      <td>580717</td>\n",
       "      <td>1</td>\n",
       "    </tr>\n",
       "    <tr>\n",
       "      <th>1</th>\n",
       "      <td>2007/02/19</td>\n",
       "      <td>2014/03/31</td>\n",
       "      <td>140</td>\n",
       "      <td>1.252314</td>\n",
       "      <td>293678</td>\n",
       "      <td>7</td>\n",
       "    </tr>\n",
       "    <tr>\n",
       "      <th>2</th>\n",
       "      <td>2007/02/01</td>\n",
       "      <td>2014/03/31</td>\n",
       "      <td>135</td>\n",
       "      <td>1.254676</td>\n",
       "      <td>283712</td>\n",
       "      <td>11</td>\n",
       "    </tr>\n",
       "    <tr>\n",
       "      <th>3</th>\n",
       "      <td>2008/08/22</td>\n",
       "      <td>2014/03/31</td>\n",
       "      <td>23</td>\n",
       "      <td>1.090870</td>\n",
       "      <td>281336</td>\n",
       "      <td>97</td>\n",
       "    </tr>\n",
       "    <tr>\n",
       "      <th>4</th>\n",
       "      <td>2009/04/10</td>\n",
       "      <td>2014/03/31</td>\n",
       "      <td>152</td>\n",
       "      <td>0.970658</td>\n",
       "      <td>309928</td>\n",
       "      <td>5</td>\n",
       "    </tr>\n",
       "  </tbody>\n",
       "</table>\n",
       "</div>"
      ],
      "text/plain": [
       "     ffp_date   load_time  flight_count  avg_discount  seg_km_sum  last_to_end\n",
       "0  2006/11/02  2014/03/31           210      0.961639      580717            1\n",
       "1  2007/02/19  2014/03/31           140      1.252314      293678            7\n",
       "2  2007/02/01  2014/03/31           135      1.254676      283712           11\n",
       "3  2008/08/22  2014/03/31            23      1.090870      281336           97\n",
       "4  2009/04/10  2014/03/31           152      0.970658      309928            5"
      ]
     },
     "execution_count": 4,
     "metadata": {},
     "output_type": "execute_result"
    }
   ],
   "source": [
    "data = data[['FFP_DATE', 'LOAD_TIME', 'FLIGHT_COUNT', 'avg_discount', 'SEG_KM_SUM', 'LAST_TO_END']]\n",
    "data.columns = [_.lower() for _ in data.columns]\n",
    "data.head()"
   ]
  },
  {
   "cell_type": "code",
   "execution_count": 5,
   "metadata": {},
   "outputs": [
    {
     "data": {
      "text/plain": [
       "(62044, 6)"
      ]
     },
     "execution_count": 5,
     "metadata": {},
     "output_type": "execute_result"
    }
   ],
   "source": [
    "data.shape"
   ]
  },
  {
   "cell_type": "markdown",
   "metadata": {},
   "source": [
    "**数据变换**\n",
    "\n",
    "本案例中主要采用的数据变换形式是属性构造和数据标准化。"
   ]
  },
  {
   "cell_type": "markdown",
   "metadata": {},
   "source": [
    "- l = load_time - ffp_date\n",
    "- r = last_to_end\n",
    "- f = flight_count\n",
    "- m = seg_km_Sum\n",
    "- c = avg_discount"
   ]
  },
  {
   "cell_type": "code",
   "execution_count": 6,
   "metadata": {},
   "outputs": [],
   "source": [
    "datafile = './data/data_7/zscoredata.xls'\n",
    "zscoredfile = './data/data_7/zscoreddata.xls'\n",
    "\n",
    "data = pd.read_excel(datafile)\n",
    "data = (data - data.mean()) / data.std()\n",
    "\n",
    "data.columns = ['Z'+_ for _ in data.columns]\n",
    "\n",
    "data.to_excel(zscoredfile)"
   ]
  },
  {
   "cell_type": "code",
   "execution_count": 7,
   "metadata": {},
   "outputs": [
    {
     "data": {
      "text/html": [
       "<div>\n",
       "<style scoped>\n",
       "    .dataframe tbody tr th:only-of-type {\n",
       "        vertical-align: middle;\n",
       "    }\n",
       "\n",
       "    .dataframe tbody tr th {\n",
       "        vertical-align: top;\n",
       "    }\n",
       "\n",
       "    .dataframe thead th {\n",
       "        text-align: right;\n",
       "    }\n",
       "</style>\n",
       "<table border=\"1\" class=\"dataframe\">\n",
       "  <thead>\n",
       "    <tr style=\"text-align: right;\">\n",
       "      <th></th>\n",
       "      <th>ZL</th>\n",
       "      <th>ZR</th>\n",
       "      <th>ZF</th>\n",
       "      <th>ZM</th>\n",
       "      <th>ZC</th>\n",
       "    </tr>\n",
       "  </thead>\n",
       "  <tbody>\n",
       "    <tr>\n",
       "      <th>0</th>\n",
       "      <td>1.689882</td>\n",
       "      <td>0.140299</td>\n",
       "      <td>-0.635788</td>\n",
       "      <td>0.068794</td>\n",
       "      <td>-0.337186</td>\n",
       "    </tr>\n",
       "    <tr>\n",
       "      <th>1</th>\n",
       "      <td>1.689882</td>\n",
       "      <td>-0.322442</td>\n",
       "      <td>0.852453</td>\n",
       "      <td>0.843848</td>\n",
       "      <td>-0.553613</td>\n",
       "    </tr>\n",
       "    <tr>\n",
       "      <th>2</th>\n",
       "      <td>1.681743</td>\n",
       "      <td>-0.487707</td>\n",
       "      <td>-0.210576</td>\n",
       "      <td>0.158569</td>\n",
       "      <td>-1.094680</td>\n",
       "    </tr>\n",
       "    <tr>\n",
       "      <th>3</th>\n",
       "      <td>1.534185</td>\n",
       "      <td>-0.785184</td>\n",
       "      <td>0.002030</td>\n",
       "      <td>0.273091</td>\n",
       "      <td>-1.148787</td>\n",
       "    </tr>\n",
       "    <tr>\n",
       "      <th>4</th>\n",
       "      <td>0.890167</td>\n",
       "      <td>-0.426559</td>\n",
       "      <td>-0.635788</td>\n",
       "      <td>-0.685170</td>\n",
       "      <td>1.231909</td>\n",
       "    </tr>\n",
       "  </tbody>\n",
       "</table>\n",
       "</div>"
      ],
      "text/plain": [
       "         ZL        ZR        ZF        ZM        ZC\n",
       "0  1.689882  0.140299 -0.635788  0.068794 -0.337186\n",
       "1  1.689882 -0.322442  0.852453  0.843848 -0.553613\n",
       "2  1.681743 -0.487707 -0.210576  0.158569 -1.094680\n",
       "3  1.534185 -0.785184  0.002030  0.273091 -1.148787\n",
       "4  0.890167 -0.426559 -0.635788 -0.685170  1.231909"
      ]
     },
     "execution_count": 7,
     "metadata": {},
     "output_type": "execute_result"
    }
   ],
   "source": [
    "data.head()"
   ]
  },
  {
   "cell_type": "markdown",
   "metadata": {},
   "source": [
    "### 模型构建"
   ]
  },
  {
   "cell_type": "markdown",
   "metadata": {},
   "source": [
    "**客户聚类**\n",
    "\n",
    "采用KMEANS聚类算法，将客户分成5类（需要结合对业务的理解分析来确定类别数量）"
   ]
  },
  {
   "cell_type": "code",
   "execution_count": 8,
   "metadata": {},
   "outputs": [
    {
     "name": "stdout",
     "output_type": "stream",
     "text": [
      "聚类中心：\n",
      "[[-7.00589165e-01 -4.15214914e-01 -1.60729692e-01 -1.60504902e-01\n",
      "  -2.56584147e-01]\n",
      " [ 4.83476474e-01 -7.99417769e-01  2.48236495e+00  2.42356419e+00\n",
      "   3.09430418e-01]\n",
      " [ 5.13196772e-02 -2.47695842e-03 -2.31029238e-01 -2.35226271e-01\n",
      "   2.17701890e+00]\n",
      " [-3.14083365e-01  1.68668163e+00 -5.73851609e-01 -5.36605129e-01\n",
      "  -1.72552329e-01]\n",
      " [ 1.16068233e+00 -3.77321624e-01 -8.70112346e-02 -9.49539141e-02\n",
      "  -1.58617232e-01]]\n",
      "各样本对应的类别：\n",
      "[4 4 4 ... 4 4 4]\n"
     ]
    }
   ],
   "source": [
    "from sklearn.cluster import KMeans\n",
    "\n",
    "k = 5\n",
    "\n",
    "kmodel = KMeans(n_clusters=k, n_jobs=4).fit(data)\n",
    "print('聚类中心：\\n{}'.format(kmodel.cluster_centers_))\n",
    "print('各样本对应的类别：\\n{}'.format(kmodel.labels_))"
   ]
  },
  {
   "cell_type": "code",
   "execution_count": 9,
   "metadata": {},
   "outputs": [],
   "source": [
    "import seaborn as sns\n",
    "import matplotlib.pyplot as plt\n",
    "\n",
    "plt.rcParams['font.sans-serif'] = ['SimHei']\n",
    "plt.rcParams['axes.unicode_minus'] = False"
   ]
  },
  {
   "cell_type": "code",
   "execution_count": 17,
   "metadata": {},
   "outputs": [
    {
     "data": {
      "text/plain": [
       "<matplotlib.axes._subplots.AxesSubplot at 0x28ece8fe588>"
      ]
     },
     "execution_count": 17,
     "metadata": {},
     "output_type": "execute_result"
    },
    {
     "data": {
      "image/png": "[encoded data removed]",
      "text/plain": [
       "<Figure size 864x720 with 2 Axes>"
      ]
     },
     "metadata": {
      "needs_background": "light"
     },
     "output_type": "display_data"
    }
   ],
   "source": [
    "plt.figure(figsize=(12, 10))\n",
    "sns.heatmap(kmodel.cluster_centers_, cmap='coolwarm', linewidths=0.2,\n",
    "            annot=True, annot_kws={'size': 15},\n",
    "            xticklabels=['ZL', 'ZR', 'ZF', 'ZM', 'ZC'],\n",
    "            yticklabels=['类别1', '类别2', '类别3', '类别4', '类别5'])"
   ]
  },
  {
   "cell_type": "code",
   "execution_count": 11,
   "metadata": {},
   "outputs": [],
   "source": [
    "data['class'] = kmodel.labels_"
   ]
  },
  {
   "cell_type": "code",
   "execution_count": 15,
   "metadata": {},
   "outputs": [
    {
     "data": {
      "text/html": [
       "<div>\n",
       "<style scoped>\n",
       "    .dataframe tbody tr th:only-of-type {\n",
       "        vertical-align: middle;\n",
       "    }\n",
       "\n",
       "    .dataframe tbody tr th {\n",
       "        vertical-align: top;\n",
       "    }\n",
       "\n",
       "    .dataframe thead th {\n",
       "        text-align: right;\n",
       "    }\n",
       "</style>\n",
       "<table border=\"1\" class=\"dataframe\">\n",
       "  <thead>\n",
       "    <tr style=\"text-align: right;\">\n",
       "      <th></th>\n",
       "      <th>class</th>\n",
       "      <th>number</th>\n",
       "    </tr>\n",
       "  </thead>\n",
       "  <tbody>\n",
       "    <tr>\n",
       "      <th>0</th>\n",
       "      <td>类别1</td>\n",
       "      <td>24626</td>\n",
       "    </tr>\n",
       "    <tr>\n",
       "      <th>3</th>\n",
       "      <td>类别2</td>\n",
       "      <td>5340</td>\n",
       "    </tr>\n",
       "    <tr>\n",
       "      <th>4</th>\n",
       "      <td>类别3</td>\n",
       "      <td>4232</td>\n",
       "    </tr>\n",
       "    <tr>\n",
       "      <th>2</th>\n",
       "      <td>类别4</td>\n",
       "      <td>12120</td>\n",
       "    </tr>\n",
       "    <tr>\n",
       "      <th>1</th>\n",
       "      <td>类别5</td>\n",
       "      <td>15726</td>\n",
       "    </tr>\n",
       "  </tbody>\n",
       "</table>\n",
       "</div>"
      ],
      "text/plain": [
       "  class  number\n",
       "0   类别1   24626\n",
       "3   类别2    5340\n",
       "4   类别3    4232\n",
       "2   类别4   12120\n",
       "1   类别5   15726"
      ]
     },
     "execution_count": 15,
     "metadata": {},
     "output_type": "execute_result"
    }
   ],
   "source": [
    "class_count = data['class'].value_counts().reset_index()\n",
    "class_count['index'] = class_count['index'].map(dict(zip(list(range(5)), ['类别'+str(i+1) for i in range(5)])))\n",
    "class_count.columns = ['class', 'number']\n",
    "class_count = class_count.sort_values('class', ascending=True)\n",
    "class_count"
   ]
  },
  {
   "cell_type": "markdown",
   "metadata": {},
   "source": [
    "**聚类结果**\n",
    "\n",
    "- 类别1:一般与低价值客户\n",
    "- 类别2：重要保持客户，高F，高M， 低R，是最理想的客户类型，然而数量较少，需要加强这种客户的发展\n",
    "- 类别3：重要发展客户，高C，低L， 低F， 低M，需要加强这类客户的满意度，使他们逐渐成为公司的忠诚用户\n",
    "- 类别4：一般与低价值客户\n",
    "- 类别5：重要挽留客户，高L，低R，过去可能是比较优质的客户，但已经有一段时间没有乘坐过本公司航班，需要重点联系，延长客户的生命周期"
   ]
  }
 ],
 "metadata": {
  "kernelspec": {
   "display_name": "Python 3",
   "language": "python",
   "name": "python3"
  },
  "language_info": {
   "codemirror_mode": {
    "name": "ipython",
    "version": 3
   },
   "file_extension": ".py",
   "mimetype": "text/x-python",
   "name": "python",
   "nbconvert_exporter": "python",
   "pygments_lexer": "ipython3",
   "version": "3.7.3"
  }
 },
 "nbformat": 4,
 "nbformat_minor": 2
}
