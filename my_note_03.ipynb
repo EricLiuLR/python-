{
 "cells": [
  {
   "cell_type": "markdown",
   "metadata": {},
   "source": [
    "# 第三章：数据探索"
   ]
  },
  {
   "cell_type": "markdown",
   "metadata": {},
   "source": [
    "收集到初步的样本数据后，接下来要考虑的问题：\n",
    "- 样本数据集的数量和质量是否满足模型构建的需求？\n",
    "- 是否出现从未设想过的数据状态？\n",
    "- 其中有没有明显的规律和趋势？\n",
    "- 各因素之间有什么样的关联性？"
   ]
  },
  {
   "cell_type": "markdown",
   "metadata": {},
   "source": [
    "### 数据质量分析"
   ]
  },
  {
   "cell_type": "markdown",
   "metadata": {},
   "source": [
    "数据质量分析是数据准备过程中最重要的一环，是数据预处理的前提，也是数据挖掘结论有效性和准确性的基础。\n",
    "\n",
    "数据质量分析的主要任务是检查原始数据中是否存在脏数据，脏数据一般是指不符合要求，以及不能直接进行相应分析的数据。"
   ]
  },
  {
   "cell_type": "markdown",
   "metadata": {},
   "source": [
    "在常见的数据挖掘工作中，脏数据包括如下内容：\n",
    "- 缺失值\n",
    "- 异常值\n",
    "- 不一致的值\n",
    "- 重复数据以及含有特殊符号（如#、￥、*等）的数据"
   ]
  },
  {
   "cell_type": "markdown",
   "metadata": {},
   "source": [
    "### 缺失值分析"
   ]
  },
  {
   "cell_type": "markdown",
   "metadata": {},
   "source": [
    "- 记录的缺失\n",
    "- 记录中某个字段的缺失"
   ]
  },
  {
   "cell_type": "markdown",
   "metadata": {},
   "source": [
    "缺失值产生的原因：\n",
    "- 信息暂时不能或者不易获取\n",
    "- 信息由于人为或者非人为的原因被遗漏\n",
    "- 属性值不存在（如单身人士的配偶信息等）"
   ]
  },
  {
   "cell_type": "markdown",
   "metadata": {},
   "source": [
    "缺失值的影响\n",
    "- 丢失大量有用信息\n",
    "- 增加不确定性\n",
    "- 更加难以掌握规律\n",
    "- 包括空值的数据使建模过程陷入混乱，导致不可靠的输出"
   ]
  },
  {
   "cell_type": "markdown",
   "metadata": {},
   "source": [
    "缺失值的分析\n",
    "- 含有缺失值的属性个数\n",
    "- 每个属性的缺失数、缺失率"
   ]
  },
  {
   "cell_type": "markdown",
   "metadata": {},
   "source": [
    "缺失值的处理\n",
    "- 删除含有缺失值的记录\n",
    "- 对可能值进行插补\n",
    "- 不处理"
   ]
  },
  {
   "cell_type": "markdown",
   "metadata": {},
   "source": [
    "### 异常值分析"
   ]
  },
  {
   "cell_type": "code",
   "execution_count": null,
   "metadata": {},
   "outputs": [],
   "source": []
  }
 ],
 "metadata": {
  "kernelspec": {
   "display_name": "Python 3",
   "language": "python",
   "name": "python3"
  },
  "language_info": {
   "codemirror_mode": {
    "name": "ipython",
    "version": 3
   },
   "file_extension": ".py",
   "mimetype": "text/x-python",
   "name": "python",
   "nbconvert_exporter": "python",
   "pygments_lexer": "ipython3",
   "version": "3.7.1"
  }
 },
 "nbformat": 4,
 "nbformat_minor": 2
}
