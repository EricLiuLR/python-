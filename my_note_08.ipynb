{
 "cells": [
  {
   "cell_type": "markdown",
   "metadata": {},
   "source": [
    "# 中医证型关联规则挖掘"
   ]
  },
  {
   "cell_type": "markdown",
   "metadata": {},
   "source": [
    "## 挖掘目标"
   ]
  },
  {
   "cell_type": "markdown",
   "metadata": {},
   "source": [
    "- 借助三阴乳腺癌患者的临床患病信息，挖掘患者的症状与中医证型之间的关联关系\n",
    "- 对截断治疗提供依据，挖掘潜在证素"
   ]
  },
  {
   "cell_type": "markdown",
   "metadata": {},
   "source": [
    "## 挖掘方法与过程"
   ]
  },
  {
   "cell_type": "markdown",
   "metadata": {},
   "source": [
    "目前，患者的临床病例信息大豆记录在纸上，很少会将患者的患病信息存放在系统中，因此进行数据分析是会面临数据缺乏的情况，针对这种情况，采用问卷调查的方式收集数据。\n",
    "\n",
    "采用关联规则算法，挖掘各个中医证素与乳腺癌TNM分期之间的联系。"
   ]
  },
  {
   "cell_type": "markdown",
   "metadata": {},
   "source": [
    "步骤：\n",
    "- 以问卷调查的方式对数据进行收集，并将问卷信息整理成原始数据\n",
    "- 对原始数据集进行数据预处理，包括数据清洗、属性规约、数据变换\n",
    "- 采用关联规则算法，调整模型输入参数，获取各中医证素与乳腺癌TNM分期之间的关系\n",
    "- 结合实际业务，对模型结果进行分析，将模型结果应用到实际业务中"
   ]
  },
  {
   "cell_type": "markdown",
   "metadata": {},
   "source": [
    "### 数据获取\n",
    "- 拟定调查问卷表并形成原始指标表\n",
    "- 定义纳入标准与排除标准\n",
    "- 将收集回来的问卷表整理成原始数据"
   ]
  },
  {
   "cell_type": "markdown",
   "metadata": {},
   "source": [
    "### 数据预处理"
   ]
  },
  {
   "cell_type": "markdown",
   "metadata": {},
   "source": [
    "**数据清洗**\n",
    "- 问卷有效性筛选\n",
    "\n",
    "**属性规约**\n",
    "- 选择所有属性中的6种证型得分和TNM分期的属性值构成数据集\n",
    "\n",
    "**数据变换**\n",
    "- 将证型得分变为相对数\n",
    "- 数值离散化，因为Apriori算法不能处理连续属性"
   ]
  },
  {
   "cell_type": "code",
   "execution_count": 1,
   "metadata": {},
   "outputs": [],
   "source": [
    "import pandas as pd\n",
    "from sklearn.cluster import KMeans\n",
    "\n",
    "datafile = './data/data_8/data.xls'\n",
    "processedfile = './data/data_7/data_precessed.xls'\n",
    "typelabel = {'肝气郁结证型系数': 'A', '热毒蕴结证型系数': 'B', '冲任失调证型系数': 'C', '气血两虚证型系数': 'D', '脾胃虚弱证型系数': 'E', '肝肾阴虚证型系数': 'F'}\n",
    "k = 4\n",
    "\n",
    "data = pd.read_excel(datafile)\n",
    "keys = list(typelabel.keys())\n",
    "result = pd.DataFrame()\n",
    "\n",
    "for i in range(len(keys)):\n",
    "    kmodel = KMeans(n_clusters=k, n_jobs=4).fit(data[[keys[i]]].values)\n",
    "    r = kmodel.predict(data[[keys[i]]].values)\n",
    "    s = [typelabel[keys[i]] + str(j) for j in r]\n",
    "    data[keys[i]] = s"
   ]
  },
  {
   "cell_type": "code",
   "execution_count": 2,
   "metadata": {},
   "outputs": [
    {
     "data": {
      "text/html": [
       "<div>\n",
       "<style scoped>\n",
       "    .dataframe tbody tr th:only-of-type {\n",
       "        vertical-align: middle;\n",
       "    }\n",
       "\n",
       "    .dataframe tbody tr th {\n",
       "        vertical-align: top;\n",
       "    }\n",
       "\n",
       "    .dataframe thead th {\n",
       "        text-align: right;\n",
       "    }\n",
       "</style>\n",
       "<table border=\"1\" class=\"dataframe\">\n",
       "  <thead>\n",
       "    <tr style=\"text-align: right;\">\n",
       "      <th></th>\n",
       "      <th>肝气郁结证型系数</th>\n",
       "      <th>热毒蕴结证型系数</th>\n",
       "      <th>冲任失调证型系数</th>\n",
       "      <th>气血两虚证型系数</th>\n",
       "      <th>脾胃虚弱证型系数</th>\n",
       "      <th>肝肾阴虚证型系数</th>\n",
       "      <th>病程阶段</th>\n",
       "      <th>TNM分期</th>\n",
       "    </tr>\n",
       "  </thead>\n",
       "  <tbody>\n",
       "    <tr>\n",
       "      <th>0</th>\n",
       "      <td>A2</td>\n",
       "      <td>B1</td>\n",
       "      <td>C0</td>\n",
       "      <td>D0</td>\n",
       "      <td>E3</td>\n",
       "      <td>F0</td>\n",
       "      <td>S4</td>\n",
       "      <td>H4</td>\n",
       "    </tr>\n",
       "    <tr>\n",
       "      <th>1</th>\n",
       "      <td>A3</td>\n",
       "      <td>B2</td>\n",
       "      <td>C0</td>\n",
       "      <td>D0</td>\n",
       "      <td>E3</td>\n",
       "      <td>F0</td>\n",
       "      <td>S4</td>\n",
       "      <td>H4</td>\n",
       "    </tr>\n",
       "    <tr>\n",
       "      <th>2</th>\n",
       "      <td>A2</td>\n",
       "      <td>B2</td>\n",
       "      <td>C0</td>\n",
       "      <td>D2</td>\n",
       "      <td>E3</td>\n",
       "      <td>F1</td>\n",
       "      <td>S4</td>\n",
       "      <td>H4</td>\n",
       "    </tr>\n",
       "    <tr>\n",
       "      <th>3</th>\n",
       "      <td>A0</td>\n",
       "      <td>B0</td>\n",
       "      <td>C3</td>\n",
       "      <td>D2</td>\n",
       "      <td>E1</td>\n",
       "      <td>F0</td>\n",
       "      <td>S4</td>\n",
       "      <td>H4</td>\n",
       "    </tr>\n",
       "    <tr>\n",
       "      <th>4</th>\n",
       "      <td>A1</td>\n",
       "      <td>B0</td>\n",
       "      <td>C1</td>\n",
       "      <td>D1</td>\n",
       "      <td>E1</td>\n",
       "      <td>F0</td>\n",
       "      <td>S4</td>\n",
       "      <td>H4</td>\n",
       "    </tr>\n",
       "  </tbody>\n",
       "</table>\n",
       "</div>"
      ],
      "text/plain": [
       "  肝气郁结证型系数 热毒蕴结证型系数 冲任失调证型系数 气血两虚证型系数 脾胃虚弱证型系数 肝肾阴虚证型系数 病程阶段 TNM分期\n",
       "0       A2       B1       C0       D0       E3       F0   S4    H4\n",
       "1       A3       B2       C0       D0       E3       F0   S4    H4\n",
       "2       A2       B2       C0       D2       E3       F1   S4    H4\n",
       "3       A0       B0       C3       D2       E1       F0   S4    H4\n",
       "4       A1       B0       C1       D1       E1       F0   S4    H4"
      ]
     },
     "execution_count": 2,
     "metadata": {},
     "output_type": "execute_result"
    }
   ],
   "source": [
    "data = data.drop(['转移部位', '确诊后几年发现转移'], axis=1)\n",
    "data.head()"
   ]
  },
  {
   "cell_type": "code",
   "execution_count": 3,
   "metadata": {},
   "outputs": [],
   "source": [
    "data.to_excel(processedfile)"
   ]
  },
  {
   "cell_type": "markdown",
   "metadata": {},
   "source": [
    "### 模型构建"
   ]
  },
  {
   "cell_type": "code",
   "execution_count": 4,
   "metadata": {},
   "outputs": [
    {
     "name": "stderr",
     "output_type": "stream",
     "text": [
      "C:\\ProgramData\\Anaconda3\\lib\\site-packages\\ipykernel_launcher.py:7: FutureWarning: Method .as_matrix will be removed in a future version. Use .values instead.\n",
      "  import sys\n"
     ]
    },
    {
     "name": "stdout",
     "output_type": "stream",
     "text": [
      "\n",
      "正在进行第1次搜索...\n",
      "数目：276...\n",
      "\n",
      "正在进行第2次搜索...\n",
      "数目：947...\n",
      "\n",
      "正在进行第3次搜索...\n",
      "数目：41...\n",
      "\n",
      "结果为：\n",
      "                    support  confidence\n",
      "A3---F4---H4       0.078495    0.879518\n",
      "C3---F4---H4       0.075269    0.875000\n",
      "B2---F4---H4       0.062366    0.794521\n",
      "C2---E3---D2       0.092473    0.754386\n",
      "D2---F3---H4---A2  0.062366    0.753247\n"
     ]
    },
    {
     "data": {
      "text/html": [
       "<div>\n",
       "<style scoped>\n",
       "    .dataframe tbody tr th:only-of-type {\n",
       "        vertical-align: middle;\n",
       "    }\n",
       "\n",
       "    .dataframe tbody tr th {\n",
       "        vertical-align: top;\n",
       "    }\n",
       "\n",
       "    .dataframe thead th {\n",
       "        text-align: right;\n",
       "    }\n",
       "</style>\n",
       "<table border=\"1\" class=\"dataframe\">\n",
       "  <thead>\n",
       "    <tr style=\"text-align: right;\">\n",
       "      <th></th>\n",
       "      <th>support</th>\n",
       "      <th>confidence</th>\n",
       "    </tr>\n",
       "  </thead>\n",
       "  <tbody>\n",
       "    <tr>\n",
       "      <th>A3---F4---H4</th>\n",
       "      <td>0.078495</td>\n",
       "      <td>0.879518</td>\n",
       "    </tr>\n",
       "    <tr>\n",
       "      <th>C3---F4---H4</th>\n",
       "      <td>0.075269</td>\n",
       "      <td>0.875000</td>\n",
       "    </tr>\n",
       "    <tr>\n",
       "      <th>B2---F4---H4</th>\n",
       "      <td>0.062366</td>\n",
       "      <td>0.794521</td>\n",
       "    </tr>\n",
       "    <tr>\n",
       "      <th>C2---E3---D2</th>\n",
       "      <td>0.092473</td>\n",
       "      <td>0.754386</td>\n",
       "    </tr>\n",
       "    <tr>\n",
       "      <th>D2---F3---H4---A2</th>\n",
       "      <td>0.062366</td>\n",
       "      <td>0.753247</td>\n",
       "    </tr>\n",
       "  </tbody>\n",
       "</table>\n",
       "</div>"
      ],
      "text/plain": [
       "                    support  confidence\n",
       "A3---F4---H4       0.078495    0.879518\n",
       "C3---F4---H4       0.075269    0.875000\n",
       "B2---F4---H4       0.062366    0.794521\n",
       "C2---E3---D2       0.092473    0.754386\n",
       "D2---F3---H4---A2  0.062366    0.753247"
      ]
     },
     "execution_count": 4,
     "metadata": {},
     "output_type": "execute_result"
    }
   ],
   "source": [
    "from apriori import *\n",
    "\n",
    "inputfile = './data/data_8/apriori.txt'\n",
    "data = pd.read_csv(inputfile, header=None, dtype=object)\n",
    "\n",
    "ct = lambda x: pd.Series(1, index=x[pd.notnull(x)])\n",
    "b = map(ct, data.as_matrix())\n",
    "data = pd.DataFrame(b).fillna(0)\n",
    "del b\n",
    "\n",
    "support = 0.06\n",
    "confidence = 0.75\n",
    "ms = '---'\n",
    "\n",
    "find_rule(data, support, confidence, ms)"
   ]
  },
  {
   "cell_type": "markdown",
   "metadata": {},
   "source": [
    "**结论**"
   ]
  },
  {
   "cell_type": "markdown",
   "metadata": {},
   "source": [
    "TNM分期为H4期的三阴乳腺癌患者证型主要为肝肾阴虚证、热毒蕴结证、肝气郁结证和冲任失调，H4期患者肝肾阴虚证和肝气郁结证的临床表现较为突出，最大置信度可达87.9%"
   ]
  }
 ],
 "metadata": {
  "kernelspec": {
   "display_name": "Python 3",
   "language": "python",
   "name": "python3"
  },
  "language_info": {
   "codemirror_mode": {
    "name": "ipython",
    "version": 3
   },
   "file_extension": ".py",
   "mimetype": "text/x-python",
   "name": "python",
   "nbconvert_exporter": "python",
   "pygments_lexer": "ipython3",
   "version": "3.7.3"
  }
 },
 "nbformat": 4,
 "nbformat_minor": 2
}
