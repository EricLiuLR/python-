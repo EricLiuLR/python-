{
 "cells": [
  {
   "cell_type": "markdown",
   "metadata": {},
   "source": [
    "# 挖掘建模"
   ]
  },
  {
   "cell_type": "markdown",
   "metadata": {},
   "source": [
    "经过数据探索和数据预处理，得到了可以直接建模的数据。根据数据挖掘目标和数据形式可以建立分类与预测、聚类分析、关联分析、时序模式和偏差检测等模型，帮助企业提取数据中蕴含的商业价值，提高企业的竞争力。"
   ]
  },
  {
   "cell_type": "markdown",
   "metadata": {},
   "source": [
    "## 分类与预测"
   ]
  },
  {
   "cell_type": "markdown",
   "metadata": {},
   "source": [
    "分类和预测是预测问题的两种主要类型\n",
    "- 分类主要是预测分类标号\n",
    "- 预测主要是建立连续值函数模型，预测给定自变量对应的因变量的值"
   ]
  },
  {
   "cell_type": "markdown",
   "metadata": {},
   "source": [
    "### 常见的分类与预测算法"
   ]
  },
  {
   "cell_type": "markdown",
   "metadata": {},
   "source": [
    "- 回归分析\n",
    "    - 线性回归\n",
    "    - 非线性回归\n",
    "    - Logistic回归\n",
    "    - 岭回归\n",
    "    - 主成分回归\n",
    "    - 偏最小二乘回归\n",
    "- 决策树\n",
    "- 人工神经网络\n",
    "- 贝叶斯网络\n",
    "- 支持向量机"
   ]
  },
  {
   "cell_type": "markdown",
   "metadata": {},
   "source": [
    "### 回归分析"
   ]
  },
  {
   "cell_type": "code",
   "execution_count": 20,
   "metadata": {},
   "outputs": [],
   "source": [
    "import warnings\n",
    "warnings.filterwarnings('ignore')"
   ]
  },
  {
   "cell_type": "code",
   "execution_count": 21,
   "metadata": {},
   "outputs": [],
   "source": [
    "import pandas as pd\n",
    "from sklearn.linear_model import LogisticRegression\n",
    "from sklearn.linear_model import RandomizedLogisticRegression"
   ]
  },
  {
   "cell_type": "code",
   "execution_count": 22,
   "metadata": {},
   "outputs": [],
   "source": [
    "# 导入数据集\n",
    "filename = './data/data_5/bankloan.xls'\n",
    "data = pd.read_excel(filename)\n",
    "\n",
    "# 准备数据\n",
    "X = data.drop('违约', axis=1).values\n",
    "y = data['违约'].values"
   ]
  },
  {
   "cell_type": "code",
   "execution_count": 23,
   "metadata": {},
   "outputs": [
    {
     "name": "stdout",
     "output_type": "stream",
     "text": [
      "模型的平均正确率为：0.8057142857142857\n"
     ]
    }
   ],
   "source": [
    "# 无特征选择的建模\n",
    "lr = LogisticRegression(solver='liblinear').fit(X, y)\n",
    "print('模型的平均正确率为：{}'.format(lr.score(X, y)))"
   ]
  },
  {
   "cell_type": "code",
   "execution_count": 24,
   "metadata": {},
   "outputs": [
    {
     "name": "stdout",
     "output_type": "stream",
     "text": [
      "特征得分为：[0.095 0.105 0.99  0.36  0.    1.    0.615 0.035]\n",
      "特征选择结果为：[False False  True  True False  True  True False]\n",
      "选择的有效特征为： ['工龄' '地址' '负债率' '信用卡负债']\n",
      "特征选择后数据集的形状为：(700, 4)\n"
     ]
    }
   ],
   "source": [
    "# 特征选择\n",
    "features = data.columns[:-1].copy()\n",
    "rlr = RandomizedLogisticRegression().fit(X, y)\n",
    "print('特征得分为：{}'.format(rlr.scores_))\n",
    "print('特征选择结果为：{}'.format(rlr.get_support()))\n",
    "print('选择的有效特征为： {}'.format(features[rlr.get_support()].values))\n",
    "X = data[features[rlr.get_support()]].values\n",
    "print('特征选择后数据集的形状为：{}'.format(X.shape))"
   ]
  },
  {
   "cell_type": "code",
   "execution_count": 25,
   "metadata": {},
   "outputs": [
    {
     "name": "stdout",
     "output_type": "stream",
     "text": [
      "模型的平均正确率为：0.8142857142857143\n"
     ]
    }
   ],
   "source": [
    "# 特征选择后的建模\n",
    "lr = LogisticRegression().fit(X, y)\n",
    "print('模型的平均正确率为：{}'.format(lr.score(X, y)))"
   ]
  },
  {
   "cell_type": "markdown",
   "metadata": {},
   "source": [
    "特征选择方法：\n",
    "- 递归特征消除\n",
    "- 稳定性选择"
   ]
  },
  {
   "cell_type": "markdown",
   "metadata": {},
   "source": [
    "**Logistic回归本质上是一种线性模型，这里的有效性检验本质上还是一种线性相关检验，因此筛选出来的变量只是与结果具有较强的线性相关性，变量没有被保留，也只是因为没有明显的线性相关性，但是可能存在一些非线性的关系，实际操作中需要根据问题的背景对筛选结果进行分析。**\n",
    "\n",
    "对于非线性关系的变量筛选方法有决策树、神经网络等。"
   ]
  },
  {
   "cell_type": "markdown",
   "metadata": {},
   "source": [
    "### 决策树"
   ]
  },
  {
   "cell_type": "code",
   "execution_count": null,
   "metadata": {},
   "outputs": [],
   "source": []
  }
 ],
 "metadata": {
  "kernelspec": {
   "display_name": "Python 3",
   "language": "python",
   "name": "python3"
  },
  "language_info": {
   "codemirror_mode": {
    "name": "ipython",
    "version": 3
   },
   "file_extension": ".py",
   "mimetype": "text/x-python",
   "name": "python",
   "nbconvert_exporter": "python",
   "pygments_lexer": "ipython3",
   "version": "3.7.1"
  }
 },
 "nbformat": 4,
 "nbformat_minor": 2
}
