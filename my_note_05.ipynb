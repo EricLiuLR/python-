{
 "cells": [
  {
   "cell_type": "markdown",
   "metadata": {},
   "source": [
    "# 挖掘建模"
   ]
  },
  {
   "cell_type": "markdown",
   "metadata": {},
   "source": [
    "经过数据探索和数据预处理，得到了可以直接建模的数据。根据数据挖掘目标和数据形式可以建立分类与预测、聚类分析、关联分析、时序模式和偏差检测等模型，帮助企业提取数据中蕴含的商业价值，提高企业的竞争力。"
   ]
  },
  {
   "cell_type": "markdown",
   "metadata": {},
   "source": [
    "## 分类与预测"
   ]
  },
  {
   "cell_type": "markdown",
   "metadata": {},
   "source": [
    "分类和预测是预测问题的两种主要类型\n",
    "- 分类主要是预测分类标号\n",
    "- 预测主要是建立连续值函数模型，预测给定自变量对应的因变量的值"
   ]
  },
  {
   "cell_type": "markdown",
   "metadata": {},
   "source": [
    "### 常见的分类与预测算法"
   ]
  },
  {
   "cell_type": "markdown",
   "metadata": {},
   "source": [
    "- 回归分析\n",
    "    - 线性回归\n",
    "    - 非线性回归\n",
    "    - Logistic回归\n",
    "    - 岭回归\n",
    "    - 主成分回归\n",
    "    - 偏最小二乘回归\n",
    "- 决策树\n",
    "- 人工神经网络\n",
    "- 贝叶斯网络\n",
    "- 支持向量机"
   ]
  },
  {
   "cell_type": "markdown",
   "metadata": {},
   "source": [
    "### 回归分析"
   ]
  },
  {
   "cell_type": "code",
   "execution_count": 30,
   "metadata": {},
   "outputs": [],
   "source": [
    "import warnings\n",
    "warnings.filterwarnings('ignore')"
   ]
  },
  {
   "cell_type": "code",
   "execution_count": 31,
   "metadata": {},
   "outputs": [],
   "source": [
    "import pandas as pd\n",
    "from sklearn.linear_model import LogisticRegression\n",
    "from sklearn.linear_model import RandomizedLogisticRegression"
   ]
  },
  {
   "cell_type": "code",
   "execution_count": 32,
   "metadata": {},
   "outputs": [],
   "source": [
    "# 导入数据集\n",
    "filename = './data/data_5/bankloan.xls'\n",
    "data = pd.read_excel(filename)\n",
    "\n",
    "# 准备数据\n",
    "X = data.drop('违约', axis=1).values\n",
    "y = data['违约'].values"
   ]
  },
  {
   "cell_type": "code",
   "execution_count": 33,
   "metadata": {},
   "outputs": [
    {
     "name": "stdout",
     "output_type": "stream",
     "text": [
      "模型的平均正确率为：0.8057142857142857\n"
     ]
    }
   ],
   "source": [
    "# 无特征选择的建模\n",
    "lr = LogisticRegression(solver='liblinear').fit(X, y)\n",
    "print('模型的平均正确率为：{}'.format(lr.score(X, y)))"
   ]
  },
  {
   "cell_type": "code",
   "execution_count": 34,
   "metadata": {},
   "outputs": [
    {
     "name": "stdout",
     "output_type": "stream",
     "text": [
      "特征得分为：[0.085 0.09  0.985 0.435 0.    0.995 0.495 0.025]\n",
      "特征选择结果为：[False False  True  True False  True  True False]\n",
      "选择的有效特征为： ['工龄' '地址' '负债率' '信用卡负债']\n",
      "特征选择后数据集的形状为：(700, 4)\n"
     ]
    }
   ],
   "source": [
    "# 特征选择\n",
    "features = data.columns[:-1].copy()\n",
    "rlr = RandomizedLogisticRegression().fit(X, y)\n",
    "print('特征得分为：{}'.format(rlr.scores_))\n",
    "print('特征选择结果为：{}'.format(rlr.get_support()))\n",
    "print('选择的有效特征为： {}'.format(features[rlr.get_support()].values))\n",
    "X = data[features[rlr.get_support()]].values\n",
    "print('特征选择后数据集的形状为：{}'.format(X.shape))"
   ]
  },
  {
   "cell_type": "code",
   "execution_count": 35,
   "metadata": {},
   "outputs": [
    {
     "name": "stdout",
     "output_type": "stream",
     "text": [
      "模型的平均正确率为：0.8142857142857143\n"
     ]
    }
   ],
   "source": [
    "# 特征选择后的建模\n",
    "lr = LogisticRegression().fit(X, y)\n",
    "print('模型的平均正确率为：{}'.format(lr.score(X, y)))"
   ]
  },
  {
   "cell_type": "markdown",
   "metadata": {},
   "source": [
    "特征选择方法：\n",
    "- 递归特征消除\n",
    "- 稳定性选择"
   ]
  },
  {
   "cell_type": "markdown",
   "metadata": {},
   "source": [
    "**Logistic回归本质上是一种线性模型，这里的有效性检验本质上还是一种线性相关检验，因此筛选出来的变量只是与结果具有较强的线性相关性，变量没有被保留，也只是因为没有明显的线性相关性，但是可能存在一些非线性的关系，实际操作中需要根据问题的背景对筛选结果进行分析。**\n",
    "\n",
    "对于非线性关系的变量筛选方法有决策树、神经网络等。"
   ]
  },
  {
   "cell_type": "markdown",
   "metadata": {},
   "source": [
    "### 决策树"
   ]
  },
  {
   "cell_type": "code",
   "execution_count": 36,
   "metadata": {},
   "outputs": [],
   "source": [
    "from sklearn.tree import DecisionTreeClassifier"
   ]
  },
  {
   "cell_type": "code",
   "execution_count": 37,
   "metadata": {},
   "outputs": [],
   "source": [
    "filename = './data/data_5/sales_data.xls'\n",
    "data = pd.read_excel(filename, index_col='序号')\n",
    "\n",
    "data[data == '好'] = 1\n",
    "data[data == '是'] = 1\n",
    "data[data == '高'] = 1\n",
    "data[data != 1] = -1\n",
    "data = data.astype(int)\n",
    "\n",
    "X = data.drop('销量', axis=1).values\n",
    "y = data['销量'].values\n",
    "\n",
    "dtc = DecisionTreeClassifier(criterion='entropy').fit(X, y)"
   ]
  },
  {
   "cell_type": "code",
   "execution_count": 38,
   "metadata": {},
   "outputs": [],
   "source": [
    "from sklearn.tree import export_graphviz"
   ]
  },
  {
   "cell_type": "code",
   "execution_count": 39,
   "metadata": {},
   "outputs": [],
   "source": [
    "with open('./data/data_5/tree.dot', 'w') as f:\n",
    "    f = export_graphviz(dtc, feature_names=data.columns[:-1].copy().values, out_file=f)"
   ]
  },
  {
   "cell_type": "markdown",
   "metadata": {},
   "source": [
    "### 人工神经网络"
   ]
  },
  {
   "cell_type": "code",
   "execution_count": 40,
   "metadata": {},
   "outputs": [],
   "source": [
    "filename = './data/data_5/sales_data.xls'\n",
    "data = pd.read_excel(filename, index_col='序号')\n",
    "\n",
    "data[data == '好'] = 1\n",
    "data[data == '是'] = 1\n",
    "data[data == '高'] = 1\n",
    "data[data != 1] = -1\n",
    "data = data.astype(int)\n",
    "\n",
    "X = data.drop('销量', axis=1).values\n",
    "y = data['销量'].values"
   ]
  },
  {
   "cell_type": "code",
   "execution_count": 41,
   "metadata": {},
   "outputs": [
    {
     "name": "stdout",
     "output_type": "stream",
     "text": [
      "Epoch 1/10\n",
      "34/34 [==============================] - 1s 16ms/step - loss: 0.7995 - acc: 0.4118\n",
      "Epoch 2/10\n",
      "34/34 [==============================] - 0s 144us/step - loss: 0.7956 - acc: 0.3529\n",
      "Epoch 3/10\n",
      "34/34 [==============================] - 0s 88us/step - loss: 0.7911 - acc: 0.3529\n",
      "Epoch 4/10\n",
      "34/34 [==============================] - 0s 117us/step - loss: 0.7864 - acc: 0.3529\n",
      "Epoch 5/10\n",
      "34/34 [==============================] - 0s 119us/step - loss: 0.7816 - acc: 0.3529\n",
      "Epoch 6/10\n",
      "34/34 [==============================] - 0s 59us/step - loss: 0.7766 - acc: 0.3529\n",
      "Epoch 7/10\n",
      "34/34 [==============================] - 0s 88us/step - loss: 0.7717 - acc: 0.3235\n",
      "Epoch 8/10\n",
      "34/34 [==============================] - 0s 92us/step - loss: 0.7667 - acc: 0.3235\n",
      "Epoch 9/10\n",
      "34/34 [==============================] - 0s 29us/step - loss: 0.7617 - acc: 0.3235\n",
      "Epoch 10/10\n",
      "34/34 [==============================] - 0s 120us/step - loss: 0.7566 - acc: 0.3235\n"
     ]
    },
    {
     "data": {
      "text/plain": [
       "array([[ 0, 10,  6],\n",
       "       [ 0,  0,  0],\n",
       "       [ 0,  7, 11]], dtype=int64)"
      ]
     },
     "execution_count": 41,
     "metadata": {},
     "output_type": "execute_result"
    }
   ],
   "source": [
    "from keras.models import Sequential\n",
    "from keras.layers.core import Dense, Activation\n",
    "\n",
    "model = Sequential()\n",
    "model.add(Dense(10))\n",
    "model.add(Activation('relu'))\n",
    "model.add(Dense(1))\n",
    "model.add(Activation('sigmoid'))\n",
    "\n",
    "model.compile(loss='binary_crossentropy', optimizer='adam', class_mode='binary', metrics=['accuracy'])\n",
    "\n",
    "model.fit(X, y, nb_epoch=10, batch_size=1000)\n",
    "yp = model.predict_classes(X).reshape(len(y))\n",
    "\n",
    "from sklearn.metrics import confusion_matrix\n",
    "confusion_matrix(y, yp)"
   ]
  },
  {
   "cell_type": "markdown",
   "metadata": {},
   "source": [
    "### 分类与预测算法评价"
   ]
  },
  {
   "cell_type": "markdown",
   "metadata": {},
   "source": [
    "- 绝对误差与相对误差\n",
    "- 平均绝对误差\n",
    "- 均方误差\n",
    "- 均方根误差\n",
    "- 平均绝对百分误差\n",
    "- Kappa统计\n",
    "- 识别准确率（accuracy）\n",
    "- 识别精确率（Precision）\n",
    "- 识别反馈率（Recall）\n",
    "- ROC曲线（Sencitivity(Recall) - (1-Specificity)）\n",
    "- 混淆矩阵"
   ]
  },
  {
   "cell_type": "markdown",
   "metadata": {},
   "source": [
    "## 聚类分析"
   ]
  },
  {
   "cell_type": "markdown",
   "metadata": {},
   "source": [
    "聚类的输入是一组未被标记的样本，聚类根据数据之间的距离或者相似度将其划分为若干组，划分的原则是组内距离最小化而组间距离最大化。"
   ]
  },
  {
   "cell_type": "markdown",
   "metadata": {},
   "source": [
    "- K-Means\n",
    "- K-中心点\n",
    "- 系统聚类"
   ]
  },
  {
   "cell_type": "markdown",
   "metadata": {},
   "source": [
    "### K-Means聚类算法"
   ]
  },
  {
   "cell_type": "markdown",
   "metadata": {},
   "source": [
    "- 对于连续属性，要先对各属性值进行零-均值规范\n",
    "- 对于文档数据间的相似度，使用余弦相似性\n",
    "- 对于不同的聚类结果，选择误差平方和（各个点到所属簇中心点的距离平方和）较小的一个"
   ]
  },
  {
   "cell_type": "code",
   "execution_count": 42,
   "metadata": {},
   "outputs": [],
   "source": [
    "inputfile = './data/data_5/consumption_data.xls'\n",
    "k = 3\n",
    "iteration = 500\n",
    "data = pd.read_excel(inputfile, index_col='Id')\n",
    "data_zc = 1.0 * (data - data.mean()) / data.std()\n",
    "\n",
    "from sklearn.cluster import KMeans\n",
    "\n",
    "model = KMeans(n_clusters=k, max_iter=iteration).fit(data_zc)"
   ]
  },
  {
   "cell_type": "code",
   "execution_count": 43,
   "metadata": {},
   "outputs": [
    {
     "data": {
      "text/plain": [
       "array([[-0.14935336, -0.65889299, -0.27177977],\n",
       "       [-0.16045063,  1.11480154,  0.39284443],\n",
       "       [ 3.45505486, -0.29565357,  0.44912342]])"
      ]
     },
     "execution_count": 43,
     "metadata": {},
     "output_type": "execute_result"
    }
   ],
   "source": [
    "model.cluster_centers_"
   ]
  },
  {
   "cell_type": "code",
   "execution_count": 44,
   "metadata": {},
   "outputs": [
    {
     "data": {
      "text/plain": [
       "array([0, 0, 1, 0, 0, 0, 0, 0, 0, 1, 0, 0, 1, 1, 0, 1, 2, 0, 0, 0])"
      ]
     },
     "execution_count": 44,
     "metadata": {},
     "output_type": "execute_result"
    }
   ],
   "source": [
    "model.labels_[:20]"
   ]
  },
  {
   "cell_type": "code",
   "execution_count": 45,
   "metadata": {},
   "outputs": [
    {
     "data": {
      "text/html": [
       "<div>\n",
       "<style scoped>\n",
       "    .dataframe tbody tr th:only-of-type {\n",
       "        vertical-align: middle;\n",
       "    }\n",
       "\n",
       "    .dataframe tbody tr th {\n",
       "        vertical-align: top;\n",
       "    }\n",
       "\n",
       "    .dataframe thead th {\n",
       "        text-align: right;\n",
       "    }\n",
       "</style>\n",
       "<table border=\"1\" class=\"dataframe\">\n",
       "  <thead>\n",
       "    <tr style=\"text-align: right;\">\n",
       "      <th></th>\n",
       "      <th>R</th>\n",
       "      <th>F</th>\n",
       "      <th>M</th>\n",
       "      <th>类别</th>\n",
       "    </tr>\n",
       "    <tr>\n",
       "      <th>Id</th>\n",
       "      <th></th>\n",
       "      <th></th>\n",
       "      <th></th>\n",
       "      <th></th>\n",
       "    </tr>\n",
       "  </thead>\n",
       "  <tbody>\n",
       "    <tr>\n",
       "      <th>1</th>\n",
       "      <td>27</td>\n",
       "      <td>6</td>\n",
       "      <td>232.61</td>\n",
       "      <td>0</td>\n",
       "    </tr>\n",
       "    <tr>\n",
       "      <th>2</th>\n",
       "      <td>3</td>\n",
       "      <td>5</td>\n",
       "      <td>1507.11</td>\n",
       "      <td>0</td>\n",
       "    </tr>\n",
       "    <tr>\n",
       "      <th>3</th>\n",
       "      <td>4</td>\n",
       "      <td>16</td>\n",
       "      <td>817.62</td>\n",
       "      <td>1</td>\n",
       "    </tr>\n",
       "    <tr>\n",
       "      <th>4</th>\n",
       "      <td>3</td>\n",
       "      <td>11</td>\n",
       "      <td>232.81</td>\n",
       "      <td>0</td>\n",
       "    </tr>\n",
       "    <tr>\n",
       "      <th>5</th>\n",
       "      <td>14</td>\n",
       "      <td>7</td>\n",
       "      <td>1913.05</td>\n",
       "      <td>0</td>\n",
       "    </tr>\n",
       "  </tbody>\n",
       "</table>\n",
       "</div>"
      ],
      "text/plain": [
       "     R   F        M  类别\n",
       "Id                     \n",
       "1   27   6   232.61   0\n",
       "2    3   5  1507.11   0\n",
       "3    4  16   817.62   1\n",
       "4    3  11   232.81   0\n",
       "5   14   7  1913.05   0"
      ]
     },
     "execution_count": 45,
     "metadata": {},
     "output_type": "execute_result"
    }
   ],
   "source": [
    "data['类别'] = model.labels_\n",
    "data.head()"
   ]
  },
  {
   "cell_type": "code",
   "execution_count": 46,
   "metadata": {},
   "outputs": [],
   "source": [
    "import seaborn as sns\n",
    "import matplotlib.pyplot as plt\n",
    "plt.rcParams['font.sans-serif'] = ['SimHei']\n",
    "plt.rcParams['axes.unicode_minus'] = False"
   ]
  },
  {
   "cell_type": "code",
   "execution_count": 47,
   "metadata": {},
   "outputs": [
    {
     "data": {
      "image/png": "[encoded data removed]",
      "text/plain": [
       "<Figure size 1728x432 with 3 Axes>"
      ]
     },
     "metadata": {},
     "output_type": "display_data"
    }
   ],
   "source": [
    "plt.figure(figsize=(24, 6))\n",
    "for i in range(3):\n",
    "    plt.subplot(1, 3, i+1)\n",
    "    sns.violinplot(data=data, y=data.columns[i], x='类别')"
   ]
  },
  {
   "cell_type": "code",
   "execution_count": 48,
   "metadata": {},
   "outputs": [
    {
     "data": {
      "image/png": "[encoded data removed]",
      "text/plain": [
       "<Figure size 1728x432 with 3 Axes>"
      ]
     },
     "metadata": {},
     "output_type": "display_data"
    }
   ],
   "source": [
    "plt.figure(figsize=(24, 6))\n",
    "for i in range(3):\n",
    "    plt.subplot(1, 3, i+1)\n",
    "    sns.boxplot(data=data, y=data.columns[i], x='类别')"
   ]
  },
  {
   "cell_type": "markdown",
   "metadata": {},
   "source": [
    "### 聚类分析算法评价"
   ]
  },
  {
   "cell_type": "markdown",
   "metadata": {},
   "source": [
    "- purity评价法\n",
    "- RI评价法\n",
    "- F值评价法"
   ]
  },
  {
   "cell_type": "markdown",
   "metadata": {},
   "source": [
    "### Python主要聚类分析算法"
   ]
  },
  {
   "cell_type": "markdown",
   "metadata": {},
   "source": [
    "sklearn.cluster\n",
    "- KMeans：K均值聚类\n",
    "- AffinityPropagation：吸引力传播聚类，几乎优于所有其他方法，不需要指定聚类数，但是运行效率低\n",
    "- MeanShift：均值漂移聚类算法\n",
    "- SpectralClustering：谱聚类，效果比K均值好，速度比K均值快\n",
    "- AgglomerativeClustering：层次聚类，给出一棵聚类层次树\n",
    "- DBSCAN：具有噪声的基于密度的聚类方法\n",
    "- BIRCH：综合的层次聚类算法，可以处理大规模数据的聚类"
   ]
  },
  {
   "cell_type": "markdown",
   "metadata": {},
   "source": [
    "### TSNE - 聚类结果可视化工具"
   ]
  },
  {
   "cell_type": "code",
   "execution_count": 49,
   "metadata": {},
   "outputs": [],
   "source": [
    "from sklearn.manifold import TSNE"
   ]
  },
  {
   "cell_type": "code",
   "execution_count": 50,
   "metadata": {},
   "outputs": [
    {
     "data": {
      "text/html": [
       "<div>\n",
       "<style scoped>\n",
       "    .dataframe tbody tr th:only-of-type {\n",
       "        vertical-align: middle;\n",
       "    }\n",
       "\n",
       "    .dataframe tbody tr th {\n",
       "        vertical-align: top;\n",
       "    }\n",
       "\n",
       "    .dataframe thead th {\n",
       "        text-align: right;\n",
       "    }\n",
       "</style>\n",
       "<table border=\"1\" class=\"dataframe\">\n",
       "  <thead>\n",
       "    <tr style=\"text-align: right;\">\n",
       "      <th></th>\n",
       "      <th>0</th>\n",
       "      <th>1</th>\n",
       "      <th>class</th>\n",
       "    </tr>\n",
       "    <tr>\n",
       "      <th>Id</th>\n",
       "      <th></th>\n",
       "      <th></th>\n",
       "      <th></th>\n",
       "    </tr>\n",
       "  </thead>\n",
       "  <tbody>\n",
       "    <tr>\n",
       "      <th>1</th>\n",
       "      <td>3.276276</td>\n",
       "      <td>26.386789</td>\n",
       "      <td>0</td>\n",
       "    </tr>\n",
       "    <tr>\n",
       "      <th>2</th>\n",
       "      <td>22.038919</td>\n",
       "      <td>-17.858297</td>\n",
       "      <td>0</td>\n",
       "    </tr>\n",
       "    <tr>\n",
       "      <th>3</th>\n",
       "      <td>-35.715218</td>\n",
       "      <td>10.806181</td>\n",
       "      <td>1</td>\n",
       "    </tr>\n",
       "    <tr>\n",
       "      <th>4</th>\n",
       "      <td>-30.801605</td>\n",
       "      <td>17.131716</td>\n",
       "      <td>0</td>\n",
       "    </tr>\n",
       "    <tr>\n",
       "      <th>5</th>\n",
       "      <td>8.944232</td>\n",
       "      <td>-17.107437</td>\n",
       "      <td>0</td>\n",
       "    </tr>\n",
       "  </tbody>\n",
       "</table>\n",
       "</div>"
      ],
      "text/plain": [
       "            0          1  class\n",
       "Id                             \n",
       "1    3.276276  26.386789      0\n",
       "2   22.038919 -17.858297      0\n",
       "3  -35.715218  10.806181      1\n",
       "4  -30.801605  17.131716      0\n",
       "5    8.944232 -17.107437      0"
      ]
     },
     "execution_count": 50,
     "metadata": {},
     "output_type": "execute_result"
    }
   ],
   "source": [
    "tsne = TSNE().fit_transform(data_zc)\n",
    "tsne = pd.DataFrame(tsne, index=data_zc.index)\n",
    "tsne['class'] = model.labels_\n",
    "tsne.head()"
   ]
  },
  {
   "cell_type": "code",
   "execution_count": 51,
   "metadata": {},
   "outputs": [],
   "source": [
    "import seaborn as sns\n",
    "import matplotlib.pyplot as plt\n",
    "plt.rcParams['font.sans-serif'] = ['SimHei']\n",
    "plt.rcParams['axes.unicode_minus'] = False\n",
    "sns.set_palette('muted')\n",
    "sns.set_style('ticks')"
   ]
  },
  {
   "cell_type": "code",
   "execution_count": 52,
   "metadata": {},
   "outputs": [
    {
     "data": {
      "text/plain": [
       "<matplotlib.axes._subplots.AxesSubplot at 0x2029559e390>"
      ]
     },
     "execution_count": 52,
     "metadata": {},
     "output_type": "execute_result"
    },
    {
     "data": {
      "image/png": "[encoded data removed]",
      "text/plain": [
       "<Figure size 432x288 with 1 Axes>"
      ]
     },
     "metadata": {},
     "output_type": "display_data"
    }
   ],
   "source": [
    "sns.scatterplot(data=tsne, x=0, y=1, hue='class')"
   ]
  },
  {
   "cell_type": "markdown",
   "metadata": {},
   "source": [
    "## 关联规则"
   ]
  },
  {
   "cell_type": "markdown",
   "metadata": {},
   "source": [
    "关联规则是数据挖掘中使用最多的研究方法之一，目的是在一个数据集中找出各项之间的关联关系，而这种关系并没有在数据中直接表示出来。"
   ]
  },
  {
   "cell_type": "code",
   "execution_count": 53,
   "metadata": {},
   "outputs": [],
   "source": [
    "inputfile = './data/data_5/menu_orders.xls'\n",
    "data = pd.read_excel(inputfile, header=None)"
   ]
  },
  {
   "cell_type": "code",
   "execution_count": 54,
   "metadata": {},
   "outputs": [],
   "source": [
    "import numpy as np"
   ]
  },
  {
   "cell_type": "code",
   "execution_count": 55,
   "metadata": {},
   "outputs": [],
   "source": [
    "from itertools import permutations"
   ]
  },
  {
   "cell_type": "code",
   "execution_count": 56,
   "metadata": {},
   "outputs": [],
   "source": [
    "def count_comb(d, comb):\n",
    "    count = 0\n",
    "    for i in range(len(data)):\n",
    "        l = data.iloc[i].values.tolist()\n",
    "        bol = 1\n",
    "        for item in comb:\n",
    "            tmp_bol = int(item in l)\n",
    "            bol = bol * tmp_bol\n",
    "        if bol:\n",
    "            count += 1\n",
    "    return count\n",
    "\n",
    "def cal_confidence(results, tmp_results, comb):\n",
    "    up = tmp_results[tmp_results.rule == comb]['support']\n",
    "    down = results[results.rule == comb[:-1]]['support']\n",
    "    result = float(up.iloc[0]/down.iloc[0])\n",
    "    return result\n",
    "\n",
    "def apriori(d, min_support=0.2, min_confidence=0.5, label='-'):\n",
    "    all_items = list(pd.unique(data.values.flatten()))\n",
    "    all_items.remove(np.nan)\n",
    "    total_len = len(all_items)\n",
    "    k = 0\n",
    "    noneed = []\n",
    "    results = pd.DataFrame(columns=['rule', 'support', 'confidence'])\n",
    "    while k <= total_len:\n",
    "        k += 1\n",
    "        all_combs = list(permutations(all_items, k))\n",
    "        good_combs = [i for i in all_combs if i[:-1] not in noneed]\n",
    "        bad_combs = [i for i in all_combs if i[:-1] in noneed]\n",
    "        tmp_results = pd.DataFrame(columns=results.columns)\n",
    "        tmp_results['rule'] = good_combs\n",
    "        tmp_results['support'] = tmp_results.rule.apply(lambda x: count_comb(data, x)) / len(d)\n",
    "        if k == 1:\n",
    "            tmp_results['confidence'] = 1\n",
    "        else:\n",
    "            tmp_results['confidence'] = tmp_results.rule.apply(lambda x: cal_confidence(results, tmp_results, x))\n",
    "        no_good = tmp_results[(tmp_results.support < min_support) | (tmp_results.confidence < min_confidence)].copy()\n",
    "        bad_combs.extend(no_good['rule'].values.tolist())\n",
    "        noneed.extend(bad_combs)\n",
    "        tmp_results = tmp_results.drop(no_good.index)\n",
    "        results = results.append(tmp_results)\n",
    "    results['rule'] = results.rule.apply(lambda x: label.join(x))\n",
    "    results = results[results.rule.str.len() > 1]\n",
    "    return results.sort_values('confidence', ascending=False).reset_index(drop=True)"
   ]
  },
  {
   "cell_type": "code",
   "execution_count": 57,
   "metadata": {},
   "outputs": [
    {
     "data": {
      "text/html": [
       "<div>\n",
       "<style scoped>\n",
       "    .dataframe tbody tr th:only-of-type {\n",
       "        vertical-align: middle;\n",
       "    }\n",
       "\n",
       "    .dataframe tbody tr th {\n",
       "        vertical-align: top;\n",
       "    }\n",
       "\n",
       "    .dataframe thead th {\n",
       "        text-align: right;\n",
       "    }\n",
       "</style>\n",
       "<table border=\"1\" class=\"dataframe\">\n",
       "  <thead>\n",
       "    <tr style=\"text-align: right;\">\n",
       "      <th></th>\n",
       "      <th>rule</th>\n",
       "      <th>support</th>\n",
       "      <th>confidence</th>\n",
       "    </tr>\n",
       "  </thead>\n",
       "  <tbody>\n",
       "    <tr>\n",
       "      <th>0</th>\n",
       "      <td>e-a</td>\n",
       "      <td>0.3</td>\n",
       "      <td>1</td>\n",
       "    </tr>\n",
       "    <tr>\n",
       "      <th>1</th>\n",
       "      <td>e-c</td>\n",
       "      <td>0.3</td>\n",
       "      <td>1</td>\n",
       "    </tr>\n",
       "    <tr>\n",
       "      <th>2</th>\n",
       "      <td>d-b</td>\n",
       "      <td>0.2</td>\n",
       "      <td>1</td>\n",
       "    </tr>\n",
       "    <tr>\n",
       "      <th>3</th>\n",
       "      <td>e-c-a</td>\n",
       "      <td>0.3</td>\n",
       "      <td>1</td>\n",
       "    </tr>\n",
       "    <tr>\n",
       "      <th>4</th>\n",
       "      <td>e-a-c</td>\n",
       "      <td>0.3</td>\n",
       "      <td>1</td>\n",
       "    </tr>\n",
       "    <tr>\n",
       "      <th>5</th>\n",
       "      <td>a-c</td>\n",
       "      <td>0.5</td>\n",
       "      <td>0.714286</td>\n",
       "    </tr>\n",
       "    <tr>\n",
       "      <th>6</th>\n",
       "      <td>c-a</td>\n",
       "      <td>0.5</td>\n",
       "      <td>0.714286</td>\n",
       "    </tr>\n",
       "    <tr>\n",
       "      <th>7</th>\n",
       "      <td>c-b</td>\n",
       "      <td>0.5</td>\n",
       "      <td>0.714286</td>\n",
       "    </tr>\n",
       "    <tr>\n",
       "      <th>8</th>\n",
       "      <td>a-b</td>\n",
       "      <td>0.5</td>\n",
       "      <td>0.714286</td>\n",
       "    </tr>\n",
       "    <tr>\n",
       "      <th>9</th>\n",
       "      <td>b-a</td>\n",
       "      <td>0.5</td>\n",
       "      <td>0.625</td>\n",
       "    </tr>\n",
       "    <tr>\n",
       "      <th>10</th>\n",
       "      <td>b-c</td>\n",
       "      <td>0.5</td>\n",
       "      <td>0.625</td>\n",
       "    </tr>\n",
       "    <tr>\n",
       "      <th>11</th>\n",
       "      <td>c-b-a</td>\n",
       "      <td>0.3</td>\n",
       "      <td>0.6</td>\n",
       "    </tr>\n",
       "    <tr>\n",
       "      <th>12</th>\n",
       "      <td>b-a-c</td>\n",
       "      <td>0.3</td>\n",
       "      <td>0.6</td>\n",
       "    </tr>\n",
       "    <tr>\n",
       "      <th>13</th>\n",
       "      <td>a-c-e</td>\n",
       "      <td>0.3</td>\n",
       "      <td>0.6</td>\n",
       "    </tr>\n",
       "    <tr>\n",
       "      <th>14</th>\n",
       "      <td>c-a-b</td>\n",
       "      <td>0.3</td>\n",
       "      <td>0.6</td>\n",
       "    </tr>\n",
       "    <tr>\n",
       "      <th>15</th>\n",
       "      <td>c-a-e</td>\n",
       "      <td>0.3</td>\n",
       "      <td>0.6</td>\n",
       "    </tr>\n",
       "    <tr>\n",
       "      <th>16</th>\n",
       "      <td>a-b-c</td>\n",
       "      <td>0.3</td>\n",
       "      <td>0.6</td>\n",
       "    </tr>\n",
       "    <tr>\n",
       "      <th>17</th>\n",
       "      <td>a-c-b</td>\n",
       "      <td>0.3</td>\n",
       "      <td>0.6</td>\n",
       "    </tr>\n",
       "    <tr>\n",
       "      <th>18</th>\n",
       "      <td>b-c-a</td>\n",
       "      <td>0.3</td>\n",
       "      <td>0.6</td>\n",
       "    </tr>\n",
       "  </tbody>\n",
       "</table>\n",
       "</div>"
      ],
      "text/plain": [
       "     rule  support confidence\n",
       "0     e-a      0.3          1\n",
       "1     e-c      0.3          1\n",
       "2     d-b      0.2          1\n",
       "3   e-c-a      0.3          1\n",
       "4   e-a-c      0.3          1\n",
       "5     a-c      0.5   0.714286\n",
       "6     c-a      0.5   0.714286\n",
       "7     c-b      0.5   0.714286\n",
       "8     a-b      0.5   0.714286\n",
       "9     b-a      0.5      0.625\n",
       "10    b-c      0.5      0.625\n",
       "11  c-b-a      0.3        0.6\n",
       "12  b-a-c      0.3        0.6\n",
       "13  a-c-e      0.3        0.6\n",
       "14  c-a-b      0.3        0.6\n",
       "15  c-a-e      0.3        0.6\n",
       "16  a-b-c      0.3        0.6\n",
       "17  a-c-b      0.3        0.6\n",
       "18  b-c-a      0.3        0.6"
      ]
     },
     "execution_count": 57,
     "metadata": {},
     "output_type": "execute_result"
    }
   ],
   "source": [
    "results = apriori(data)\n",
    "\n",
    "results"
   ]
  },
  {
   "cell_type": "markdown",
   "metadata": {},
   "source": [
    "## 时序模式"
   ]
  },
  {
   "cell_type": "markdown",
   "metadata": {},
   "source": [
    "就餐饮企业而言，由于生产和销售是同时进行的，因此销售预测对于餐饮企业十分必要。如何基于菜品历史销售数据，做好餐饮销售预测，以便减少菜品脱销或者生产延误的情况，从而减少菜品生产等待时间，提供给客户更优质的服务。"
   ]
  },
  {
   "cell_type": "markdown",
   "metadata": {},
   "source": [
    "### 时间序列的预处理"
   ]
  },
  {
   "cell_type": "markdown",
   "metadata": {},
   "source": [
    "拿到一个观察值序列后，首先要对它的纯随机性和平稳性进行检验，根据检验结果可以将序列分为不同的类型，对不同类型的序列采取不同的处理方法。"
   ]
  },
  {
   "cell_type": "markdown",
   "metadata": {},
   "source": [
    "- 纯随机序列（白噪声序列）：放弃分析\n",
    "- 平稳非白噪声序列：通常建立线性模型分析（如ARMA）\n",
    "- 非平稳序列：一般转换为平稳序列进行分析"
   ]
  },
  {
   "cell_type": "markdown",
   "metadata": {},
   "source": [
    "**平稳序列**：\n",
    "\n",
    "如果时间序列在某一常数附近波动且波动范围有限，即有常数均值和常数方差，并且延迟k期的序列变量的自协方差和自相关系数是相等的，或者说延迟k期的序列变量之间的影响程度是一样的，则称这个序列为平稳序列。\n",
    "\n",
    "**平稳性的检验**\n",
    "- 时序图检验：平稳序列的时序图通常显示序列值在一个常数附近随机波动，而且波动的范围有界， 如果有明显的趋势性或者周期性，那么它通常不是平稳序列；缺点：带有主观性\n",
    "- 自相关图检验：平稳序列只具有短期相关性，间隔越远的过去值对现在值的影响越小，随着延迟周期k的增加，自相关系数会比较快地趋向于0，并在0附近随机波动，非平稳序列的自相关系数衰减较慢\n",
    "- 单位根检验：检验序列中是否存在单位根，如果存在单位根，那么就是非平稳序列\n",
    "\n",
    "**纯随机性检验（白噪声检验）**"
   ]
  },
  {
   "cell_type": "markdown",
   "metadata": {},
   "source": [
    "### 平稳时间序列分析"
   ]
  },
  {
   "cell_type": "markdown",
   "metadata": {},
   "source": [
    "- AR模型：在t时刻的随机变量X的取值是前p期X取值的多元线性回归\n",
    "- MA模型：在t时刻的随机变量X的取值是均值加上前p期随机扰动值的多元线性回归\n",
    "- ARMA模型：在t时刻的随机变量X的取值是前p期X取值和前q期随机扰动值的共同的多元线性回归"
   ]
  },
  {
   "cell_type": "markdown",
   "metadata": {},
   "source": [
    "## 离群点检测"
   ]
  },
  {
   "cell_type": "markdown",
   "metadata": {},
   "source": [
    "离群点检测是数据挖掘中重要的一部分，它的任务是发现于大部分其他对象显著不同的对象。\n",
    "\n",
    "大部分数据挖掘算法将这种差异信息视为噪声而丢弃，然而在一些应用中，罕见的数据可能蕴含着更大的研究价值。"
   ]
  },
  {
   "cell_type": "markdown",
   "metadata": {},
   "source": [
    "**常见的离群点检测方法：**\n",
    "- 基于统计：必须知道数据服从什么分布，对于高维数据效果很差\n",
    "- 基于邻近度：二维或三维的数据可以用散点图观察，大数据集不适用，对参数选择敏感，具有全局阈值，不适用于具有不同密度区域的数据集\n",
    "- 基于密度：一个对象的离群度得分是该对象周围的点密度的逆，能够处理不同的密度区域，不适用于大数据集，参数选择困难\n",
    "- 基于聚类：聚类算法产生簇的质量对于产生离群点的质量影响很大\n",
    "    - 丢弃远离其他簇的小簇\n",
    "    - 首先聚类所有对象，然后评估对象属于簇的程度（离群点得分）"
   ]
  },
  {
   "cell_type": "code",
   "execution_count": 58,
   "metadata": {},
   "outputs": [
    {
     "data": {
      "image/png": "[encoded data removed]",
      "text/plain": [
       "<Figure size 432x288 with 1 Axes>"
      ]
     },
     "metadata": {},
     "output_type": "display_data"
    }
   ],
   "source": [
    "import numpy as np\n",
    "import pandas as pd\n",
    "\n",
    "inputfile = './data/data_5/consumption_data.xls'\n",
    "k = 3\n",
    "threshold = 2\n",
    "iteration = 500\n",
    "data = pd.read_excel(inputfile, index_col='Id')\n",
    "data_zs = 1.0 * (data - data.mean()) / data.std()\n",
    "\n",
    "from sklearn.cluster import KMeans\n",
    "\n",
    "model = KMeans(n_clusters=k, max_iter=iteration).fit(data_zs)\n",
    "\n",
    "r = pd.concat([data_zs, pd.Series(model.labels_, index=data_zs.index)], axis=1)\n",
    "r.columns = list(data.columns) + ['聚类类别']\n",
    "\n",
    "norm = []\n",
    "for i in range(k):\n",
    "    norm_tmp = r[['R', 'F', 'M']][r['聚类类别']==i] - model.cluster_centers_[i]\n",
    "    norm_tmp = norm_tmp.apply(np.linalg.norm, axis=1)\n",
    "    norm.append(norm_tmp / norm_tmp.median())\n",
    "\n",
    "norm = pd.concat(norm)\n",
    "\n",
    "import matplotlib.pyplot as plt\n",
    "plt.rcParams['font.sans-serif'] = ['SimHei']\n",
    "plt.rcParams['axes.unicode_minus'] = False\n",
    "\n",
    "norm[norm <= threshold].plot(style='go')\n",
    "discrete_points = norm[norm > threshold]\n",
    "discrete_points.plot(style='ro')\n",
    "\n",
    "for i in range(len(discrete_points)):\n",
    "    id = discrete_points.index[i]\n",
    "    n = discrete_points.iloc[i]\n",
    "    plt.annotate('(%s, %0.2f)'%(id, n), xy=(id, n), xytext=(id, n))\n",
    "\n",
    "plt.xlabel('编号')\n",
    "plt.ylabel('相对距离')\n",
    "plt.show()"
   ]
  }
 ],
 "metadata": {
  "kernelspec": {
   "display_name": "Python 3",
   "language": "python",
   "name": "python3"
  },
  "language_info": {
   "codemirror_mode": {
    "name": "ipython",
    "version": 3
   },
   "file_extension": ".py",
   "mimetype": "text/x-python",
   "name": "python",
   "nbconvert_exporter": "python",
   "pygments_lexer": "ipython3",
   "version": "3.7.1"
  }
 },
 "nbformat": 4,
 "nbformat_minor": 2
}
