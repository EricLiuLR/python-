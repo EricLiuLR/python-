{
 "cells": [
  {
   "cell_type": "markdown",
   "metadata": {},
   "source": [
    "# 基于水色图像的水质评价"
   ]
  },
  {
   "cell_type": "markdown",
   "metadata": {},
   "source": [
    "## 挖掘目标"
   ]
  },
  {
   "cell_type": "markdown",
   "metadata": {},
   "source": [
    "- 根据给定的样本，利用图像处理技术，通过水色图像实现水质的自动评价"
   ]
  },
  {
   "cell_type": "markdown",
   "metadata": {},
   "source": [
    "## 分析方法与过程"
   ]
  },
  {
   "cell_type": "markdown",
   "metadata": {},
   "source": [
    "- 图像数据维度过大，不容易分析，需要从中提取出反应水质特征的关键指标，**图像特征提取是图像识别的关键步骤**。"
   ]
  },
  {
   "cell_type": "markdown",
   "metadata": {},
   "source": [
    "**步骤**\n",
    "- 从采集到的原始水样数据中抽取建模数据和增量数据\n",
    "- 数据预处理，包括图像切割和颜色矩特征提取\n",
    "- 由有经验的专家根据经验进行分类\n",
    "- 构建分类模型\n",
    "- 利用构建好的模型进行水质评价"
   ]
  },
  {
   "cell_type": "markdown",
   "metadata": {},
   "source": [
    "### 数据预处理"
   ]
  },
  {
   "cell_type": "markdown",
   "metadata": {},
   "source": [
    "**图像切割**\n",
    "采集到的图像带有盛水容器，水体位于图像中央，提取图像中央101 by 101个像素点的数据作为数据集\n",
    "\n",
    "**特征提取**\n",
    "- 一阶颜色矩：反映图像的整体明暗程度\n",
    "- 二阶颜色矩：反映图像颜色的分布范围\n",
    "- 三阶颜色矩：反映图像颜色分布的对称性"
   ]
  },
  {
   "cell_type": "code",
   "execution_count": 1,
   "metadata": {},
   "outputs": [],
   "source": [
    "import numpy as np\n",
    "import pandas as pd"
   ]
  },
  {
   "cell_type": "code",
   "execution_count": 4,
   "metadata": {},
   "outputs": [
    {
     "data": {
      "text/html": [
       "<div>\n",
       "<style scoped>\n",
       "    .dataframe tbody tr th:only-of-type {\n",
       "        vertical-align: middle;\n",
       "    }\n",
       "\n",
       "    .dataframe tbody tr th {\n",
       "        vertical-align: top;\n",
       "    }\n",
       "\n",
       "    .dataframe thead th {\n",
       "        text-align: right;\n",
       "    }\n",
       "</style>\n",
       "<table border=\"1\" class=\"dataframe\">\n",
       "  <thead>\n",
       "    <tr style=\"text-align: right;\">\n",
       "      <th></th>\n",
       "      <th>类别</th>\n",
       "      <th>序号</th>\n",
       "      <th>R通道一阶矩</th>\n",
       "      <th>G通道一阶矩</th>\n",
       "      <th>B通道一阶矩</th>\n",
       "      <th>R通道二阶矩</th>\n",
       "      <th>G通道二阶矩</th>\n",
       "      <th>B通道二阶矩</th>\n",
       "      <th>R通道三阶矩</th>\n",
       "      <th>G通道三阶矩</th>\n",
       "      <th>B通道三阶矩</th>\n",
       "    </tr>\n",
       "  </thead>\n",
       "  <tbody>\n",
       "    <tr>\n",
       "      <th>0</th>\n",
       "      <td>1</td>\n",
       "      <td>1</td>\n",
       "      <td>0.582823</td>\n",
       "      <td>0.543774</td>\n",
       "      <td>0.252829</td>\n",
       "      <td>0.014192</td>\n",
       "      <td>0.016144</td>\n",
       "      <td>0.041075</td>\n",
       "      <td>-0.012643</td>\n",
       "      <td>-0.016090</td>\n",
       "      <td>-0.041536</td>\n",
       "    </tr>\n",
       "    <tr>\n",
       "      <th>1</th>\n",
       "      <td>1</td>\n",
       "      <td>10</td>\n",
       "      <td>0.641660</td>\n",
       "      <td>0.570657</td>\n",
       "      <td>0.213728</td>\n",
       "      <td>0.015439</td>\n",
       "      <td>0.011178</td>\n",
       "      <td>0.013708</td>\n",
       "      <td>0.009727</td>\n",
       "      <td>-0.003724</td>\n",
       "      <td>-0.003779</td>\n",
       "    </tr>\n",
       "    <tr>\n",
       "      <th>2</th>\n",
       "      <td>1</td>\n",
       "      <td>11</td>\n",
       "      <td>0.603684</td>\n",
       "      <td>0.576719</td>\n",
       "      <td>0.282254</td>\n",
       "      <td>0.008659</td>\n",
       "      <td>0.007075</td>\n",
       "      <td>0.012204</td>\n",
       "      <td>-0.004695</td>\n",
       "      <td>-0.002571</td>\n",
       "      <td>-0.009451</td>\n",
       "    </tr>\n",
       "    <tr>\n",
       "      <th>3</th>\n",
       "      <td>1</td>\n",
       "      <td>12</td>\n",
       "      <td>0.589706</td>\n",
       "      <td>0.593743</td>\n",
       "      <td>0.252242</td>\n",
       "      <td>0.007908</td>\n",
       "      <td>0.005941</td>\n",
       "      <td>0.010568</td>\n",
       "      <td>0.003303</td>\n",
       "      <td>-0.003417</td>\n",
       "      <td>-0.005273</td>\n",
       "    </tr>\n",
       "    <tr>\n",
       "      <th>4</th>\n",
       "      <td>1</td>\n",
       "      <td>13</td>\n",
       "      <td>0.591096</td>\n",
       "      <td>0.592093</td>\n",
       "      <td>0.253595</td>\n",
       "      <td>0.007448</td>\n",
       "      <td>0.006495</td>\n",
       "      <td>0.012152</td>\n",
       "      <td>0.000496</td>\n",
       "      <td>-0.002236</td>\n",
       "      <td>-0.005096</td>\n",
       "    </tr>\n",
       "  </tbody>\n",
       "</table>\n",
       "</div>"
      ],
      "text/plain": [
       "   类别  序号    R通道一阶矩    G通道一阶矩    B通道一阶矩    R通道二阶矩    G通道二阶矩    B通道二阶矩  \\\n",
       "0   1   1  0.582823  0.543774  0.252829  0.014192  0.016144  0.041075   \n",
       "1   1  10  0.641660  0.570657  0.213728  0.015439  0.011178  0.013708   \n",
       "2   1  11  0.603684  0.576719  0.282254  0.008659  0.007075  0.012204   \n",
       "3   1  12  0.589706  0.593743  0.252242  0.007908  0.005941  0.010568   \n",
       "4   1  13  0.591096  0.592093  0.253595  0.007448  0.006495  0.012152   \n",
       "\n",
       "     R通道三阶矩    G通道三阶矩    B通道三阶矩  \n",
       "0 -0.012643 -0.016090 -0.041536  \n",
       "1  0.009727 -0.003724 -0.003779  \n",
       "2 -0.004695 -0.002571 -0.009451  \n",
       "3  0.003303 -0.003417 -0.005273  \n",
       "4  0.000496 -0.002236 -0.005096  "
      ]
     },
     "execution_count": 4,
     "metadata": {},
     "output_type": "execute_result"
    }
   ],
   "source": [
    "data= pd.read_csv('./data/data_9/moment.csv')\n",
    "data.head()"
   ]
  },
  {
   "cell_type": "markdown",
   "metadata": {},
   "source": [
    "### 模型构建"
   ]
  },
  {
   "cell_type": "code",
   "execution_count": 7,
   "metadata": {},
   "outputs": [],
   "source": [
    "from sklearn.model_selection import train_test_split\n",
    "\n",
    "inputfile = './data/data_9/moment.csv'\n",
    "data = pd.read_csv(inputfile)\n",
    "\n",
    "X = data.drop('类别', axis=1)\n",
    "y = data['类别'].astype(int)\n",
    "X_train, X_test, y_train, y_test = train_test_split(X, y, test_size=0.2, random_state=0, stratify=y)"
   ]
  },
  {
   "cell_type": "markdown",
   "metadata": {},
   "source": [
    "所有的特征取值范围都在-1到1之间，彼此之间的区分度较小。因此我们不妨将它们统一乘以一个常数k，从而提高区分度和准确率，k的选择不能过大，也不能过小。\n",
    "- 过小会导致区分度底，模型精度差\n",
    "- 过大会导致过拟合"
   ]
  },
  {
   "cell_type": "code",
   "execution_count": 8,
   "metadata": {},
   "outputs": [
    {
     "name": "stderr",
     "output_type": "stream",
     "text": [
      "C:\\ProgramData\\Anaconda3\\lib\\site-packages\\sklearn\\svm\\base.py:196: FutureWarning: The default value of gamma will change from 'auto' to 'scale' in version 0.22 to account better for unscaled features. Set gamma explicitly to 'auto' or 'scale' to avoid this warning.\n",
      "  \"avoid this warning.\", FutureWarning)\n"
     ]
    }
   ],
   "source": [
    "X_train, X_test = X_train * 30, X_test * 30\n",
    "\n",
    "from sklearn.svm import SVC\n",
    "import pickle\n",
    "\n",
    "model = SVC().fit(X_train, y_train)\n",
    "pickle.dump(model, open('./data/data_9/svm.model', 'wb'))\n",
    "\n",
    "from sklearn.metrics import confusion_matrix\n",
    "\n",
    "cm_train = confusion_matrix(y_train, model.predict(X_train))\n",
    "cm_test = confusion_matrix(y_test, model.predict(X_test))"
   ]
  },
  {
   "cell_type": "code",
   "execution_count": 12,
   "metadata": {},
   "outputs": [],
   "source": [
    "import seaborn as sns\n",
    "import matplotlib.pyplot as plt\n",
    "\n",
    "plt.rcParams['font.sans-serif'] = ['SimHei']\n",
    "plt.rcParams['axes.unicode_minus'] = False"
   ]
  },
  {
   "cell_type": "code",
   "execution_count": 16,
   "metadata": {},
   "outputs": [
    {
     "data": {
      "text/plain": [
       "<matplotlib.axes._subplots.AxesSubplot at 0x170922411d0>"
      ]
     },
     "execution_count": 16,
     "metadata": {},
     "output_type": "execute_result"
    },
    {
     "data": {
      "image/png": "[encoded data removed]",
      "text/plain": [
       "<Figure size 432x288 with 2 Axes>"
      ]
     },
     "metadata": {
      "needs_background": "light"
     },
     "output_type": "display_data"
    }
   ],
   "source": [
    "sns.heatmap(cm_train, cmap='gray', linewidth=0.2, annot=True)"
   ]
  },
  {
   "cell_type": "code",
   "execution_count": 17,
   "metadata": {},
   "outputs": [
    {
     "data": {
      "text/plain": [
       "<matplotlib.axes._subplots.AxesSubplot at 0x170909b9978>"
      ]
     },
     "execution_count": 17,
     "metadata": {},
     "output_type": "execute_result"
    },
    {
     "data": {
      "image/png": "[encoded data removed]",
      "text/plain": [
       "<Figure size 432x288 with 2 Axes>"
      ]
     },
     "metadata": {
      "needs_background": "light"
     },
     "output_type": "display_data"
    }
   ],
   "source": [
    "sns.heatmap(cm_test, cmap='gray', linewidth=0.2, annot=True)"
   ]
  }
 ],
 "metadata": {
  "kernelspec": {
   "display_name": "Python 3",
   "language": "python",
   "name": "python3"
  },
  "language_info": {
   "codemirror_mode": {
    "name": "ipython",
    "version": 3
   },
   "file_extension": ".py",
   "mimetype": "text/x-python",
   "name": "python",
   "nbconvert_exporter": "python",
   "pygments_lexer": "ipython3",
   "version": "3.7.1"
  }
 },
 "nbformat": 4,
 "nbformat_minor": 2
}
